{
 "cells": [
  {
   "cell_type": "code",
   "execution_count": 1,
   "metadata": {},
   "outputs": [],
   "source": [
    "import pandas as pd \n",
    "from sklearn.feature_extraction.text import CountVectorizer \n",
    "from sklearn.feature_extraction.text import TfidfVectorizer\n",
    "from sklearn.decomposition import TruncatedSVD\n",
    "from sklearn.decomposition import NMF\n",
    "from sklearn.metrics.pairwise import cosine_similarity\n",
    "from nltk.corpus import stopwords"
   ]
  },
  {
   "cell_type": "markdown",
   "metadata": {},
   "source": [
    "### Tried LSA and NMF with count vectorizer and tf-idf, decided on nmf with count vectorizer and three topics. Used that in clinton_graphs to make graphs "
   ]
  },
  {
   "cell_type": "code",
   "execution_count": 2,
   "metadata": {},
   "outputs": [],
   "source": [
    "df=pd.read_csv('clean_abstract_clinton')"
   ]
  },
  {
   "cell_type": "code",
   "execution_count": 4,
   "metadata": {},
   "outputs": [
    {
     "data": {
      "text/html": [
       "<div>\n",
       "<style scoped>\n",
       "    .dataframe tbody tr th:only-of-type {\n",
       "        vertical-align: middle;\n",
       "    }\n",
       "\n",
       "    .dataframe tbody tr th {\n",
       "        vertical-align: top;\n",
       "    }\n",
       "\n",
       "    .dataframe thead th {\n",
       "        text-align: right;\n",
       "    }\n",
       "</style>\n",
       "<table border=\"1\" class=\"dataframe\">\n",
       "  <thead>\n",
       "    <tr style=\"text-align: right;\">\n",
       "      <th></th>\n",
       "      <th>abstract</th>\n",
       "      <th>date</th>\n",
       "    </tr>\n",
       "  </thead>\n",
       "  <tbody>\n",
       "    <tr>\n",
       "      <th>0</th>\n",
       "      <td>pres and mrs clinton hold millennium party at ...</td>\n",
       "      <td>2000-01-02 05:00:00+00:00</td>\n",
       "    </tr>\n",
       "    <tr>\n",
       "      <th>1</th>\n",
       "      <td>for much of his presidency bill clintons own a...</td>\n",
       "      <td>2000-01-03 05:00:00+00:00</td>\n",
       "    </tr>\n",
       "    <tr>\n",
       "      <th>2</th>\n",
       "      <td>as the first of two moving trucks turned onto ...</td>\n",
       "      <td>2000-01-05 05:00:00+00:00</td>\n",
       "    </tr>\n",
       "    <tr>\n",
       "      <th>3</th>\n",
       "      <td>it is a reality of modern campaigns that conte...</td>\n",
       "      <td>2000-01-05 05:00:00+00:00</td>\n",
       "    </tr>\n",
       "    <tr>\n",
       "      <th>4</th>\n",
       "      <td>clinton pushes peace talks  president clinton ...</td>\n",
       "      <td>2000-01-05 05:00:00+00:00</td>\n",
       "    </tr>\n",
       "    <tr>\n",
       "      <th>...</th>\n",
       "      <td>...</td>\n",
       "      <td>...</td>\n",
       "    </tr>\n",
       "    <tr>\n",
       "      <th>16436</th>\n",
       "      <td>a new gender policy council will look differen...</td>\n",
       "      <td>2021-02-16 18:27:12+00:00</td>\n",
       "    </tr>\n",
       "    <tr>\n",
       "      <th>16437</th>\n",
       "      <td>nearly three decades after the white house est...</td>\n",
       "      <td>2021-02-16 18:27:23+00:00</td>\n",
       "    </tr>\n",
       "    <tr>\n",
       "      <th>16438</th>\n",
       "      <td>with a following of  million and a divisive st...</td>\n",
       "      <td>2021-02-17 17:35:38+00:00</td>\n",
       "    </tr>\n",
       "    <tr>\n",
       "      <th>16439</th>\n",
       "      <td>rush limbaugh made the gop the party of misogyny</td>\n",
       "      <td>2021-02-20 11:55:04+00:00</td>\n",
       "    </tr>\n",
       "    <tr>\n",
       "      <th>16440</th>\n",
       "      <td>state of terror set for release in october is ...</td>\n",
       "      <td>2021-02-23 17:18:25+00:00</td>\n",
       "    </tr>\n",
       "  </tbody>\n",
       "</table>\n",
       "<p>16441 rows × 2 columns</p>\n",
       "</div>"
      ],
      "text/plain": [
       "                                                abstract  \\\n",
       "0      pres and mrs clinton hold millennium party at ...   \n",
       "1      for much of his presidency bill clintons own a...   \n",
       "2      as the first of two moving trucks turned onto ...   \n",
       "3      it is a reality of modern campaigns that conte...   \n",
       "4      clinton pushes peace talks  president clinton ...   \n",
       "...                                                  ...   \n",
       "16436  a new gender policy council will look differen...   \n",
       "16437  nearly three decades after the white house est...   \n",
       "16438  with a following of  million and a divisive st...   \n",
       "16439   rush limbaugh made the gop the party of misogyny   \n",
       "16440  state of terror set for release in october is ...   \n",
       "\n",
       "                            date  \n",
       "0      2000-01-02 05:00:00+00:00  \n",
       "1      2000-01-03 05:00:00+00:00  \n",
       "2      2000-01-05 05:00:00+00:00  \n",
       "3      2000-01-05 05:00:00+00:00  \n",
       "4      2000-01-05 05:00:00+00:00  \n",
       "...                          ...  \n",
       "16436  2021-02-16 18:27:12+00:00  \n",
       "16437  2021-02-16 18:27:23+00:00  \n",
       "16438  2021-02-17 17:35:38+00:00  \n",
       "16439  2021-02-20 11:55:04+00:00  \n",
       "16440  2021-02-23 17:18:25+00:00  \n",
       "\n",
       "[16441 rows x 2 columns]"
      ]
     },
     "execution_count": 4,
     "metadata": {},
     "output_type": "execute_result"
    }
   ],
   "source": [
    "df"
   ]
  },
  {
   "cell_type": "code",
   "execution_count": null,
   "metadata": {},
   "outputs": [],
   "source": []
  },
  {
   "cell_type": "markdown",
   "metadata": {},
   "source": [
    "#### Stopword list"
   ]
  },
  {
   "cell_type": "code",
   "execution_count": 5,
   "metadata": {},
   "outputs": [],
   "source": [
    "stopword_list=stopwords.words('english')"
   ]
  },
  {
   "cell_type": "code",
   "execution_count": 6,
   "metadata": {},
   "outputs": [],
   "source": [
    "stopword_list.extend(['could','many','even','also','make','whether','least','called','keep','said','says', 'say',\n",
    "                      'hillary','clinton','clintons','rodham','mr','ms','mrs','would','us','united', 'states',\n",
    "                      'way','people','year','years','new','two','three','first','day','white', 'house','one',\n",
    "                     'business','international','national','bulk','receiving','orders','among','photo','photos',\n",
    "                     'monday','tuesday','wednesday','thursday','friday','saturday','sunday','news',\n",
    "                      'bookstores','bookstore','indicates','expanded','include','billion','million',\n",
    "                      'next','since','last','court','time','may','group','week', 'weather', 'editorial', 'yorkregion', 'obituaries', 'editorials'])"
   ]
  },
  {
   "cell_type": "code",
   "execution_count": 7,
   "metadata": {},
   "outputs": [
    {
     "data": {
      "text/plain": [
       "['i',\n",
       " 'me',\n",
       " 'my',\n",
       " 'myself',\n",
       " 'we',\n",
       " 'our',\n",
       " 'ours',\n",
       " 'ourselves',\n",
       " 'you',\n",
       " \"you're\",\n",
       " \"you've\",\n",
       " \"you'll\",\n",
       " \"you'd\",\n",
       " 'your',\n",
       " 'yours',\n",
       " 'yourself',\n",
       " 'yourselves',\n",
       " 'he',\n",
       " 'him',\n",
       " 'his',\n",
       " 'himself',\n",
       " 'she',\n",
       " \"she's\",\n",
       " 'her',\n",
       " 'hers',\n",
       " 'herself',\n",
       " 'it',\n",
       " \"it's\",\n",
       " 'its',\n",
       " 'itself',\n",
       " 'they',\n",
       " 'them',\n",
       " 'their',\n",
       " 'theirs',\n",
       " 'themselves',\n",
       " 'what',\n",
       " 'which',\n",
       " 'who',\n",
       " 'whom',\n",
       " 'this',\n",
       " 'that',\n",
       " \"that'll\",\n",
       " 'these',\n",
       " 'those',\n",
       " 'am',\n",
       " 'is',\n",
       " 'are',\n",
       " 'was',\n",
       " 'were',\n",
       " 'be',\n",
       " 'been',\n",
       " 'being',\n",
       " 'have',\n",
       " 'has',\n",
       " 'had',\n",
       " 'having',\n",
       " 'do',\n",
       " 'does',\n",
       " 'did',\n",
       " 'doing',\n",
       " 'a',\n",
       " 'an',\n",
       " 'the',\n",
       " 'and',\n",
       " 'but',\n",
       " 'if',\n",
       " 'or',\n",
       " 'because',\n",
       " 'as',\n",
       " 'until',\n",
       " 'while',\n",
       " 'of',\n",
       " 'at',\n",
       " 'by',\n",
       " 'for',\n",
       " 'with',\n",
       " 'about',\n",
       " 'against',\n",
       " 'between',\n",
       " 'into',\n",
       " 'through',\n",
       " 'during',\n",
       " 'before',\n",
       " 'after',\n",
       " 'above',\n",
       " 'below',\n",
       " 'to',\n",
       " 'from',\n",
       " 'up',\n",
       " 'down',\n",
       " 'in',\n",
       " 'out',\n",
       " 'on',\n",
       " 'off',\n",
       " 'over',\n",
       " 'under',\n",
       " 'again',\n",
       " 'further',\n",
       " 'then',\n",
       " 'once',\n",
       " 'here',\n",
       " 'there',\n",
       " 'when',\n",
       " 'where',\n",
       " 'why',\n",
       " 'how',\n",
       " 'all',\n",
       " 'any',\n",
       " 'both',\n",
       " 'each',\n",
       " 'few',\n",
       " 'more',\n",
       " 'most',\n",
       " 'other',\n",
       " 'some',\n",
       " 'such',\n",
       " 'no',\n",
       " 'nor',\n",
       " 'not',\n",
       " 'only',\n",
       " 'own',\n",
       " 'same',\n",
       " 'so',\n",
       " 'than',\n",
       " 'too',\n",
       " 'very',\n",
       " 's',\n",
       " 't',\n",
       " 'can',\n",
       " 'will',\n",
       " 'just',\n",
       " 'don',\n",
       " \"don't\",\n",
       " 'should',\n",
       " \"should've\",\n",
       " 'now',\n",
       " 'd',\n",
       " 'll',\n",
       " 'm',\n",
       " 'o',\n",
       " 're',\n",
       " 've',\n",
       " 'y',\n",
       " 'ain',\n",
       " 'aren',\n",
       " \"aren't\",\n",
       " 'couldn',\n",
       " \"couldn't\",\n",
       " 'didn',\n",
       " \"didn't\",\n",
       " 'doesn',\n",
       " \"doesn't\",\n",
       " 'hadn',\n",
       " \"hadn't\",\n",
       " 'hasn',\n",
       " \"hasn't\",\n",
       " 'haven',\n",
       " \"haven't\",\n",
       " 'isn',\n",
       " \"isn't\",\n",
       " 'ma',\n",
       " 'mightn',\n",
       " \"mightn't\",\n",
       " 'mustn',\n",
       " \"mustn't\",\n",
       " 'needn',\n",
       " \"needn't\",\n",
       " 'shan',\n",
       " \"shan't\",\n",
       " 'shouldn',\n",
       " \"shouldn't\",\n",
       " 'wasn',\n",
       " \"wasn't\",\n",
       " 'weren',\n",
       " \"weren't\",\n",
       " 'won',\n",
       " \"won't\",\n",
       " 'wouldn',\n",
       " \"wouldn't\",\n",
       " 'could',\n",
       " 'many',\n",
       " 'even',\n",
       " 'also',\n",
       " 'make',\n",
       " 'whether',\n",
       " 'least',\n",
       " 'called',\n",
       " 'keep',\n",
       " 'said',\n",
       " 'says',\n",
       " 'say',\n",
       " 'hillary',\n",
       " 'clinton',\n",
       " 'clintons',\n",
       " 'rodham',\n",
       " 'mr',\n",
       " 'ms',\n",
       " 'mrs',\n",
       " 'would',\n",
       " 'us',\n",
       " 'united',\n",
       " 'states',\n",
       " 'way',\n",
       " 'people',\n",
       " 'year',\n",
       " 'years',\n",
       " 'new',\n",
       " 'two',\n",
       " 'three',\n",
       " 'first',\n",
       " 'day',\n",
       " 'white',\n",
       " 'house',\n",
       " 'one',\n",
       " 'business',\n",
       " 'international',\n",
       " 'national',\n",
       " 'bulk',\n",
       " 'receiving',\n",
       " 'orders',\n",
       " 'among',\n",
       " 'photo',\n",
       " 'photos',\n",
       " 'monday',\n",
       " 'tuesday',\n",
       " 'wednesday',\n",
       " 'thursday',\n",
       " 'friday',\n",
       " 'saturday',\n",
       " 'sunday',\n",
       " 'news',\n",
       " 'bookstores',\n",
       " 'bookstore',\n",
       " 'indicates',\n",
       " 'expanded',\n",
       " 'include',\n",
       " 'billion',\n",
       " 'million',\n",
       " 'next',\n",
       " 'since',\n",
       " 'last',\n",
       " 'court',\n",
       " 'time',\n",
       " 'may',\n",
       " 'group',\n",
       " 'week',\n",
       " 'weather',\n",
       " 'editorial',\n",
       " 'yorkregion',\n",
       " 'obituaries',\n",
       " 'editorials']"
      ]
     },
     "execution_count": 7,
     "metadata": {},
     "output_type": "execute_result"
    }
   ],
   "source": [
    "stopword_list"
   ]
  },
  {
   "cell_type": "code",
   "execution_count": 8,
   "metadata": {},
   "outputs": [],
   "source": [
    "df['abstract']=df['abstract'].astype(str)"
   ]
  },
  {
   "cell_type": "code",
   "execution_count": 9,
   "metadata": {},
   "outputs": [],
   "source": [
    "df['date']=pd.to_datetime(df['date'])"
   ]
  },
  {
   "cell_type": "markdown",
   "metadata": {},
   "source": [
    "#### Replace words with 'root'"
   ]
  },
  {
   "cell_type": "code",
   "execution_count": 10,
   "metadata": {},
   "outputs": [],
   "source": [
    "df['abstract']=df['abstract'].apply(lambda x: x.replace('iraqis','iraq'))"
   ]
  },
  {
   "cell_type": "code",
   "execution_count": 11,
   "metadata": {},
   "outputs": [],
   "source": [
    "df['abstract']=df['abstract'].apply(lambda x: x.replace('iraqi','iraq'))"
   ]
  },
  {
   "cell_type": "code",
   "execution_count": 12,
   "metadata": {},
   "outputs": [],
   "source": [
    "df['abstract']=df['abstract'].apply(lambda x: x.replace('democrats','democrat'))"
   ]
  },
  {
   "cell_type": "code",
   "execution_count": 13,
   "metadata": {},
   "outputs": [],
   "source": [
    "df['abstract']=df['abstract'].apply(lambda x: x.replace('democratic','democrat'))"
   ]
  },
  {
   "cell_type": "code",
   "execution_count": 14,
   "metadata": {},
   "outputs": [],
   "source": [
    "df['abstract']=df['abstract'].apply(lambda x: x.replace('republicans','republican'))"
   ]
  },
  {
   "cell_type": "code",
   "execution_count": 15,
   "metadata": {},
   "outputs": [],
   "source": [
    "df['abstract']=df['abstract'].apply(lambda x: x.replace('israeli','israel'))"
   ]
  },
  {
   "cell_type": "code",
   "execution_count": 16,
   "metadata": {},
   "outputs": [],
   "source": [
    "df['abstract']=df['abstract'].apply(lambda x: x.replace('barack obama','obama'))"
   ]
  },
  {
   "cell_type": "code",
   "execution_count": 17,
   "metadata": {},
   "outputs": [],
   "source": [
    "df['abstract']=df['abstract'].apply(lambda x: x.replace('obamas','obama'))"
   ]
  },
  {
   "cell_type": "code",
   "execution_count": 18,
   "metadata": {},
   "outputs": [],
   "source": [
    "df['abstract']=df['abstract'].apply(lambda x: x.replace('george w bush','bush'))"
   ]
  },
  {
   "cell_type": "code",
   "execution_count": 19,
   "metadata": {},
   "outputs": [],
   "source": [
    "df['abstract']=df['abstract'].apply(lambda x: x.replace('president bush','bush'))"
   ]
  },
  {
   "cell_type": "code",
   "execution_count": 20,
   "metadata": {},
   "outputs": [],
   "source": [
    "df['abstract']=df['abstract'].apply(lambda x: x.replace('york city','yorkcity'))"
   ]
  },
  {
   "cell_type": "code",
   "execution_count": 21,
   "metadata": {},
   "outputs": [],
   "source": [
    "df['abstract']=df['abstract'].apply(lambda x: x.replace('york state','yorkstate'))"
   ]
  },
  {
   "cell_type": "code",
   "execution_count": 22,
   "metadata": {},
   "outputs": [],
   "source": [
    "df['abstract']=df['abstract'].apply(lambda x: x.replace('john mccain','mccain'))"
   ]
  },
  {
   "cell_type": "code",
   "execution_count": 23,
   "metadata": {},
   "outputs": [],
   "source": [
    "df['abstract']=df['abstract'].apply(lambda x: x.replace('bernie sanders','sanders'))"
   ]
  },
  {
   "cell_type": "code",
   "execution_count": 24,
   "metadata": {},
   "outputs": [],
   "source": [
    "df['abstract']=df['abstract'].apply(lambda x: x.replace(' sen ','senator'))"
   ]
  },
  {
   "cell_type": "code",
   "execution_count": 25,
   "metadata": {},
   "outputs": [],
   "source": [
    "df['abstract']=df['abstract'].apply(lambda x: x.replace(' pres ','president'))"
   ]
  },
  {
   "cell_type": "code",
   "execution_count": 26,
   "metadata": {},
   "outputs": [],
   "source": [
    "df['abstract']=df['abstract'].apply(lambda x: x.replace('john kerry','kerry'))"
   ]
  },
  {
   "cell_type": "code",
   "execution_count": 27,
   "metadata": {},
   "outputs": [],
   "source": [
    "df['abstract']=df['abstract'].apply(lambda x: x.replace('john podesta','podesta'))"
   ]
  },
  {
   "cell_type": "code",
   "execution_count": 28,
   "metadata": {},
   "outputs": [],
   "source": [
    "df['abstract']=df['abstract'].apply(lambda x: x.replace('candidates','candidate'))"
   ]
  },
  {
   "cell_type": "code",
   "execution_count": 29,
   "metadata": {},
   "outputs": [],
   "source": [
    "df['abstract']=df['abstract'].apply(lambda x: x.replace('partys','party'))"
   ]
  },
  {
   "cell_type": "code",
   "execution_count": 30,
   "metadata": {},
   "outputs": [],
   "source": [
    "df['abstract']=df['abstract'].apply(lambda x: x.replace('voters','vote'))"
   ]
  },
  {
   "cell_type": "code",
   "execution_count": 31,
   "metadata": {},
   "outputs": [],
   "source": [
    "df['abstract']=df['abstract'].apply(lambda x: x.replace('voter','vote'))"
   ]
  },
  {
   "cell_type": "code",
   "execution_count": 32,
   "metadata": {},
   "outputs": [],
   "source": [
    "df['abstract']=df['abstract'].apply(lambda x: x.replace(' gov ','governor'))"
   ]
  },
  {
   "cell_type": "code",
   "execution_count": 33,
   "metadata": {},
   "outputs": [],
   "source": [
    "df['abstract']=df['abstract'].apply(lambda x: x.replace('weeks','week'))"
   ]
  },
  {
   "cell_type": "code",
   "execution_count": 34,
   "metadata": {},
   "outputs": [],
   "source": [
    "df['abstract']=df['abstract'].apply(lambda x: x.replace('rudolph giuliani','giuliani'))"
   ]
  },
  {
   "cell_type": "code",
   "execution_count": 35,
   "metadata": {},
   "outputs": [],
   "source": [
    "df['abstract']=df['abstract'].apply(lambda x: x.replace('rudolph','giuliani'))"
   ]
  },
  {
   "cell_type": "code",
   "execution_count": 36,
   "metadata": {},
   "outputs": [],
   "source": [
    "df['abstract']=df['abstract'].apply(lambda x: x.replace('rick lazio','lazio'))"
   ]
  },
  {
   "cell_type": "code",
   "execution_count": 37,
   "metadata": {},
   "outputs": [],
   "source": [
    "df['abstract']=df['abstract'].apply(lambda x: x.replace(' rep ','representative'))"
   ]
  },
  {
   "cell_type": "code",
   "execution_count": 38,
   "metadata": {},
   "outputs": [],
   "source": [
    "df['abstract']=df['abstract'].apply(lambda x: x.replace('representatives','representative'))"
   ]
  },
  {
   "cell_type": "code",
   "execution_count": 39,
   "metadata": {},
   "outputs": [],
   "source": [
    "df['abstract']=df['abstract'].apply(lambda x: x.replace('running','run'))"
   ]
  },
  {
   "cell_type": "code",
   "execution_count": 40,
   "metadata": {},
   "outputs": [],
   "source": [
    "df['abstract']=df['abstract'].apply(lambda x: x.replace('run','race'))"
   ]
  },
  {
   "cell_type": "markdown",
   "metadata": {},
   "source": [
    "#### Count Vectorize"
   ]
  },
  {
   "cell_type": "code",
   "execution_count": 41,
   "metadata": {},
   "outputs": [],
   "source": [
    "vectorizer = CountVectorizer(stop_words=stopword_list, ngram_range=(1, 1))"
   ]
  },
  {
   "cell_type": "code",
   "execution_count": 42,
   "metadata": {},
   "outputs": [],
   "source": [
    "doc_word = vectorizer.fit_transform(df['abstract'].values.astype('U'))"
   ]
  },
  {
   "cell_type": "code",
   "execution_count": 43,
   "metadata": {},
   "outputs": [
    {
     "data": {
      "text/plain": [
       "(16441, 26332)"
      ]
     },
     "execution_count": 43,
     "metadata": {},
     "output_type": "execute_result"
    }
   ],
   "source": [
    "doc_word.shape"
   ]
  },
  {
   "cell_type": "markdown",
   "metadata": {},
   "source": [
    "#### LSA"
   ]
  },
  {
   "cell_type": "code",
   "execution_count": 112,
   "metadata": {},
   "outputs": [
    {
     "data": {
      "text/plain": [
       "array([0.02205605, 0.0143874 , 0.01123751, 0.0094156 , 0.00809186,\n",
       "       0.00751981, 0.00691936, 0.00655352, 0.00633107, 0.00598747,\n",
       "       0.00541211, 0.00522674, 0.00479066, 0.00454533, 0.00443562,\n",
       "       0.00427491, 0.00411352, 0.00401005, 0.00388321, 0.00362212])"
      ]
     },
     "execution_count": 112,
     "metadata": {},
     "output_type": "execute_result"
    }
   ],
   "source": [
    "lsa = TruncatedSVD(20)\n",
    "doc_topic = lsa.fit_transform(doc_word)\n",
    "lsa.explained_variance_ratio_"
   ]
  },
  {
   "cell_type": "code",
   "execution_count": 113,
   "metadata": {},
   "outputs": [],
   "source": [
    "def display_topics(model, feature_names, no_top_words, topic_names=None):\n",
    "    for ix, topic in enumerate(model.components_):\n",
    "        if not topic_names or not topic_names[ix]:\n",
    "            print(\"\\nTopic \", ix)\n",
    "        else:\n",
    "            print(\"\\nTopic: '\",topic_names[ix],\"'\")\n",
    "        print(\", \".join([feature_names[i]\n",
    "                        for i in topic.argsort()[:-no_top_words - 1:-1]]))"
   ]
  },
  {
   "cell_type": "code",
   "execution_count": 114,
   "metadata": {},
   "outputs": [
    {
     "name": "stdout",
     "output_type": "stream",
     "text": [
      "\n",
      "Topic  0\n",
      "democrat, senator, republican, campaign, senate, race, bush, president, candidate, iraq, state, york, party, obama, presidential, vote, political, american, former, officials\n",
      "\n",
      "Topic  1\n",
      "iraq, bush, american, government, federal, officials, administration, security, war, state, nations, world, oil, president, plan, israel, nuclear, foreign, public, killed\n",
      "\n",
      "Topic  2\n",
      "democrat, republican, senate, candidate, party, york, giuliani, lazio, race, mayor, money, pataki, committee, vote, yorkcity, federal, political, city, bush, yorkstate\n",
      "\n",
      "Topic  3\n",
      "democrat, iraq, war, american, party, bush, nomination, oil, need, security, convention, troops, world, foreign, face, administration, must, government, interests, policy\n",
      "\n",
      "Topic  4\n",
      "senator, iraq, campaign, war, york, american, political, oil, need, government, world, interests, face, presidential, bush, values, must, page, troops, institutions\n",
      "\n",
      "Topic  5\n",
      "campaign, president, iraq, presidential, obama, war, candidate, political, american, need, oil, face, interests, policy, values, world, must, democrat, foreign, cannot\n",
      "\n",
      "Topic  6\n",
      "childrens, york, web, books, president, rankings, lists, paperbacks, times, book, obama, list, report, fiction, available, reviews, published, site, appear, provided\n",
      "\n",
      "Topic  7\n",
      "republican, race, senate, iraq, giuliani, war, political, senator, lazio, york, pirro, candidate, president, need, party, face, interests, american, policy, values\n",
      "\n",
      "Topic  8\n",
      "state, secretary, childrens, presidential, candidate, campaign, iraq, web, political, books, rankings, lists, paperbacks, american, war, need, foreign, book, policy, face\n",
      "\n",
      "Topic  9\n",
      "democrat, senate, campaign, obama, giuliani, state, party, york, secretary, mayor, committee, lazio, convention, need, money, giulianis, seat, help, interests, war\n",
      "\n",
      "Topic  10\n",
      "republican, campaign, party, childrens, bush, obama, web, iraq, trump, books, paperbacks, rankings, lists, election, donald, pirro, age, site, book, bestselling\n",
      "\n",
      "Topic  11\n",
      "obama, candidate, vote, senate, administration, york, lazio, federal, republican, giuliani, percent, plan, senators, debate, bush, poll, officials, trade, money, aid\n",
      "\n",
      "Topic  12\n",
      "race, obama, bush, page, pirro, childrens, democrat, attorney, administration, iraq, general, election, officials, presidential, nomination, primary, campaign, reelection, books, governor\n",
      "\n",
      "Topic  13\n",
      "vote, senate, president, lazio, senator, iraq, war, york, candidate, democrat, secretary, state, american, percent, rick, campaign, sanders, support, nomination, killed\n",
      "\n",
      "Topic  14\n",
      "york, bill, money, obama, lazio, republican, presidential, security, attacks, terrorist, world, pirro, former, attack, aid, page, pm, debate, center, seat\n",
      "\n",
      "Topic  15\n",
      "candidate, giuliani, iraq, mayor, york, former, american, federal, officials, campaign, party, democrat, race, bloomberg, government, president, katrina, yorkcity, police, education\n",
      "\n",
      "Topic  16\n",
      "party, vote, york, election, pm, primary, american, trump, obama, shows, street, donald, show, christmas, like, iraq, east, officials, latest, home\n",
      "\n",
      "Topic  17\n",
      "candidate, party, political, senate, pirro, attorney, senator, leaders, general, israel, yorkstate, officials, election, jeanine, lazio, district, nations, governor, minister, federal\n",
      "\n",
      "Topic  18\n",
      "senate, party, presidential, former, nomination, committee, obama, election, lazio, bill, nations, pm, nominee, role, east, foreign, book, seat, bid, oil\n",
      "\n",
      "Topic  19\n",
      "former, vote, federal, percent, race, republican, bill, oil, political, agency, john, american, page, office, executive, chief, obama, election, pm, primary\n"
     ]
    }
   ],
   "source": [
    "display_topics(lsa, vectorizer.get_feature_names(), 20)"
   ]
  },
  {
   "cell_type": "markdown",
   "metadata": {},
   "source": [
    "#### NMF - model generates topics"
   ]
  },
  {
   "cell_type": "code",
   "execution_count": 130,
   "metadata": {},
   "outputs": [],
   "source": [
    "nmf_model = NMF(3, max_iter=300)\n",
    "doc_topic = nmf_model.fit_transform(doc_word)"
   ]
  },
  {
   "cell_type": "code",
   "execution_count": 131,
   "metadata": {},
   "outputs": [],
   "source": [
    "def display_topics(model, feature_names, no_top_words, topic_names=None):\n",
    "    for ix, topic in enumerate(model.components_):\n",
    "        if not topic_names or not topic_names[ix]:\n",
    "            print(\"\\nTopic \", ix)\n",
    "        else:\n",
    "            print(\"\\nTopic: '\",topic_names[ix],\"'\")\n",
    "        print(\", \".join([feature_names[i]\n",
    "                        for i in topic.argsort()[:-no_top_words - 1:-1]]))"
   ]
  },
  {
   "cell_type": "code",
   "execution_count": 132,
   "metadata": {
    "scrolled": false
   },
   "outputs": [
    {
     "name": "stdout",
     "output_type": "stream",
     "text": [
      "\n",
      "Topic  0\n",
      "democrat, republican, candidate, campaign, party, race, senate, presidential, york, vote, political, nomination, giuliani, primary, money, lazio, state, mayor, committee, election, convention, pataki, debate, john, governor, support, pirro, general, attorney, reelection, yorkstate, fundraising, former, leaders, bill\n",
      "\n",
      "Topic  1\n",
      "iraq, bush, american, state, federal, officials, president, government, administration, security, war, former, nations, plan, york, political, senate, republican, public, israel, world, vote, oil, secretary, health, attacks, killed, foreign, city, iran, nuclear, congress, military, north, chief\n",
      "\n",
      "Topic  2\n",
      "senator, obama, president, campaign, former, presidential, washington, race, mccain, bill, primary, secretary, supporters, state, nomination, sanders, vote, made, night, pennsylvania, fight, support, victory, might, carolina, speech, hampshire, rival, advisers, iowa, vice, primaries, presidentelect, candidacy, convention\n"
     ]
    }
   ],
   "source": [
    "display_topics(nmf_model, vectorizer.get_feature_names(), 35)"
   ]
  },
  {
   "cell_type": "code",
   "execution_count": 134,
   "metadata": {},
   "outputs": [
    {
     "data": {
      "text/html": [
       "<div>\n",
       "<style scoped>\n",
       "    .dataframe tbody tr th:only-of-type {\n",
       "        vertical-align: middle;\n",
       "    }\n",
       "\n",
       "    .dataframe tbody tr th {\n",
       "        vertical-align: top;\n",
       "    }\n",
       "\n",
       "    .dataframe thead th {\n",
       "        text-align: right;\n",
       "    }\n",
       "</style>\n",
       "<table border=\"1\" class=\"dataframe\">\n",
       "  <thead>\n",
       "    <tr style=\"text-align: right;\">\n",
       "      <th></th>\n",
       "      <th>component_1</th>\n",
       "      <th>component_2</th>\n",
       "      <th>component_3</th>\n",
       "    </tr>\n",
       "  </thead>\n",
       "  <tbody>\n",
       "    <tr>\n",
       "      <th>0</th>\n",
       "      <td>0.027</td>\n",
       "      <td>0.009</td>\n",
       "      <td>0.000</td>\n",
       "    </tr>\n",
       "    <tr>\n",
       "      <th>1</th>\n",
       "      <td>0.028</td>\n",
       "      <td>0.052</td>\n",
       "      <td>0.024</td>\n",
       "    </tr>\n",
       "    <tr>\n",
       "      <th>2</th>\n",
       "      <td>0.000</td>\n",
       "      <td>0.047</td>\n",
       "      <td>0.027</td>\n",
       "    </tr>\n",
       "    <tr>\n",
       "      <th>3</th>\n",
       "      <td>0.132</td>\n",
       "      <td>0.148</td>\n",
       "      <td>0.036</td>\n",
       "    </tr>\n",
       "    <tr>\n",
       "      <th>4</th>\n",
       "      <td>0.000</td>\n",
       "      <td>0.063</td>\n",
       "      <td>0.030</td>\n",
       "    </tr>\n",
       "    <tr>\n",
       "      <th>...</th>\n",
       "      <td>...</td>\n",
       "      <td>...</td>\n",
       "      <td>...</td>\n",
       "    </tr>\n",
       "    <tr>\n",
       "      <th>16436</th>\n",
       "      <td>0.000</td>\n",
       "      <td>0.034</td>\n",
       "      <td>0.029</td>\n",
       "    </tr>\n",
       "    <tr>\n",
       "      <th>16437</th>\n",
       "      <td>0.003</td>\n",
       "      <td>0.053</td>\n",
       "      <td>0.013</td>\n",
       "    </tr>\n",
       "    <tr>\n",
       "      <th>16438</th>\n",
       "      <td>0.000</td>\n",
       "      <td>0.031</td>\n",
       "      <td>0.000</td>\n",
       "    </tr>\n",
       "    <tr>\n",
       "      <th>16439</th>\n",
       "      <td>0.022</td>\n",
       "      <td>0.004</td>\n",
       "      <td>0.000</td>\n",
       "    </tr>\n",
       "    <tr>\n",
       "      <th>16440</th>\n",
       "      <td>0.000</td>\n",
       "      <td>0.069</td>\n",
       "      <td>0.006</td>\n",
       "    </tr>\n",
       "  </tbody>\n",
       "</table>\n",
       "<p>16441 rows × 3 columns</p>\n",
       "</div>"
      ],
      "text/plain": [
       "       component_1  component_2  component_3\n",
       "0            0.027        0.009        0.000\n",
       "1            0.028        0.052        0.024\n",
       "2            0.000        0.047        0.027\n",
       "3            0.132        0.148        0.036\n",
       "4            0.000        0.063        0.030\n",
       "...            ...          ...          ...\n",
       "16436        0.000        0.034        0.029\n",
       "16437        0.003        0.053        0.013\n",
       "16438        0.000        0.031        0.000\n",
       "16439        0.022        0.004        0.000\n",
       "16440        0.000        0.069        0.006\n",
       "\n",
       "[16441 rows x 3 columns]"
      ]
     },
     "execution_count": 134,
     "metadata": {},
     "output_type": "execute_result"
    }
   ],
   "source": [
    "doc_topic = pd.DataFrame(doc_topic.round(3),\n",
    "             columns = [\"component_1\",\"component_2\",\"component_3\"])\n",
    "doc_topic"
   ]
  },
  {
   "cell_type": "markdown",
   "metadata": {},
   "source": [
    "### Look at abstracts to decide on the right topic, concatenate with original abstracts and look at the abstracts with the highest value to decide on toipcs"
   ]
  },
  {
   "cell_type": "code",
   "execution_count": 135,
   "metadata": {},
   "outputs": [],
   "source": [
    "df_doc_topic=pd.concat([df,doc_topic], axis=1)"
   ]
  },
  {
   "cell_type": "markdown",
   "metadata": {},
   "source": [
    "#### Abstracts from Topic 1"
   ]
  },
  {
   "cell_type": "code",
   "execution_count": 136,
   "metadata": {},
   "outputs": [
    {
     "data": {
      "text/plain": [
       "1180     0.765\n",
       "13       0.646\n",
       "1587     0.580\n",
       "1858     0.560\n",
       "532      0.557\n",
       "         ...  \n",
       "6549     0.000\n",
       "6551     0.000\n",
       "6553     0.000\n",
       "6554     0.000\n",
       "16440    0.000\n",
       "Name: component_1, Length: 16441, dtype: float64"
      ]
     },
     "execution_count": 136,
     "metadata": {},
     "output_type": "execute_result"
    }
   ],
   "source": [
    "df_doc_topic['component_1'].sort_values(ascending=False)"
   ]
  },
  {
   "cell_type": "code",
   "execution_count": 137,
   "metadata": {
    "scrolled": true
   },
   "outputs": [
    {
     "data": {
      "text/plain": [
       "'senate democrat raised more unlimited unregulated soft money than republican did in  election cycle democrat used new fundraising technique called joint fundraising committee to attract soft money donations to support party and its goals rather than candidate such committees enable candidate to raise soft money indirectly  democrat senate candidate who used joint committees raised more than  million in soft money vastly exceeding  million raised by seven republican senate candidate who used committees hillary rodham clinton used joint committee to raise as much as  million in soft money figures are in new report by common cause campaign finance watchdog group figures put democrat into awkward position as senate prepares to take up campaign finance legislation democrat have long supported overhaul that would ban soft money now some are leery of tinkering with success photo'"
      ]
     },
     "execution_count": 137,
     "metadata": {},
     "output_type": "execute_result"
    }
   ],
   "source": [
    "df_doc_topic.iloc[1180]['abstract']"
   ]
  },
  {
   "cell_type": "code",
   "execution_count": 138,
   "metadata": {
    "scrolled": true
   },
   "outputs": [
    {
     "data": {
      "text/plain": [
       "'prominent democrat worry that they will lose white house because of republican huge war chest fear that republican national committee with surplus of unregulated soft money would sponsor relentless blizzard of television commercials condemning democrat programs and democrat presidential nominee money worries are stirring resentment towardpresidentclinton some feel clinton is neglecting his party distracted by his efforts to collect money for his library his wifes senate campaign and his legal defense fund some democrat also worry about their house and senate candidatesenatorrobert g torricelli chairman of democrat senatorial campaign committee claims republican could have three or fourtoone advantage possibly amassing as much as  million in soft money republican officials call that figure overblown'"
      ]
     },
     "execution_count": 138,
     "metadata": {},
     "output_type": "execute_result"
    }
   ],
   "source": [
    "df_doc_topic.iloc[13]['abstract']"
   ]
  },
  {
   "cell_type": "code",
   "execution_count": 139,
   "metadata": {},
   "outputs": [
    {
     "data": {
      "text/plain": [
       "'growing sense of realignment in voting trends in new yorkstate over last four years is forcing gubernatorial candidate and their advisers to reconsider approach to  campaign incumbent republicangovernorgeorge e pataki and potential democrat opponents h carl mccall and andrew cuomo are seizing on shift to highlight changes they say benefit their party democrat note sharp rise in party registration in recent years and strong democrat showings recently in upstate counties and on long island traditionally republican strongholds pataki aides note his success in picking up support of labor unions hispanic leaders and other democrat figures while contest is still in early stages it is democrat who seem particularly concerned as full picture of scrambling of political allegiances come into focus change is notable compared with six months ago when many party stalwarts voiced confidence over prospects of defeating pataki cheered by backtoback victories in us senate contests photos'"
      ]
     },
     "execution_count": 139,
     "metadata": {},
     "output_type": "execute_result"
    }
   ],
   "source": [
    "df_doc_topic.iloc[1587]['abstract']"
   ]
  },
  {
   "cell_type": "code",
   "execution_count": 140,
   "metadata": {
    "scrolled": true
   },
   "outputs": [
    {
     "data": {
      "text/plain": [
       "'sen hillary rodham clinton is democrat party single best fundraising draw the only one other than her husband who can pack a room she is acting as source of advice to candidate and partisan cheerleader in what democrat see as increasingly tough election she has campaigned or held fundraisers on behalf of more than  democrat candidate for house and senate who are in close races as well as for three washingtonbased democrat campaign committees she has donated  million from her own political action committee out of  million she has raised to candidate of her choice across nation her washington home has become conveyor belt of fundraising dinners and receptions that democrat candidate clamor to climb aboard photo'"
      ]
     },
     "execution_count": 140,
     "metadata": {},
     "output_type": "execute_result"
    }
   ],
   "source": [
    "df_doc_topic.iloc[1858]['abstract']"
   ]
  },
  {
   "cell_type": "code",
   "execution_count": 141,
   "metadata": {},
   "outputs": [
    {
     "data": {
      "text/plain": [
       "'new york primary races generally draw light turnout producing decisive victories for several incumbent members of congress and most incumbents in state legislaturerepresentativemichael p forbes republican turned democrat says his primary race against regina seltzer for his house seat from long island is too close to call interview hillary rodham clinton easily defeats dr mark s mcmahon for democrat nomination for united states senate votes withpresidentclinton in chappaquarepresentativeeliot l engel survives challenge from statesenatorlarry b seabrook in bronxrepresentativemajor r owens withstands challenge from councilwoman una clarke in brooklynrepresentativeanthony d weiner wins resounding victory over councilman noach dear in brooklynrepresentativeedolphus towns wins renomination over barry ford jr steve j israel narrowly wins democrat nomination forrepresentativelazios house seat from long island will face joan b johnson who wins republican primary most incumbents also survive in connecticut except in bridgeport where staterepresentativehector diaz loses to felipe reinoso ny primaries also include thirdparty candidate in senate race jeff graham wins independence party nomination results of green party threeway race among al lewis ronnie dugger and mark dunau will not be known for several days because paper ballots were used in city louis wein and john adefope are in dead heat for righttolife nomination table of ny primary results photos'"
      ]
     },
     "execution_count": 141,
     "metadata": {},
     "output_type": "execute_result"
    }
   ],
   "source": [
    "df_doc_topic.iloc[532]['abstract']"
   ]
  },
  {
   "cell_type": "markdown",
   "metadata": {},
   "source": [
    "#### Abstracts from Topic 2"
   ]
  },
  {
   "cell_type": "code",
   "execution_count": 142,
   "metadata": {
    "scrolled": true
   },
   "outputs": [
    {
     "data": {
      "text/plain": [
       "3922     3.384\n",
       "3104     2.073\n",
       "2880     1.960\n",
       "3204     1.884\n",
       "2758     1.761\n",
       "         ...  \n",
       "11754    0.000\n",
       "11761    0.000\n",
       "11764    0.000\n",
       "4503     0.000\n",
       "8220     0.000\n",
       "Name: component_2, Length: 16441, dtype: float64"
      ]
     },
     "execution_count": 142,
     "metadata": {},
     "output_type": "execute_result"
    }
   ],
   "source": [
    "df_doc_topic['component_2'].sort_values(ascending=False)"
   ]
  },
  {
   "cell_type": "code",
   "execution_count": 104,
   "metadata": {
    "scrolled": true
   },
   "outputs": [
    {
     "data": {
      "text/plain": [
       "'following is the transcript of senator hillary rodham clintons remarks at the council on foreign relations as provided by cq transcriptions incclinton you all know the litany of threats and challenges the metastasizing threat of terrorists networks recruiting troops setting up training camps amassing weapons a regime in north korea openly testing missiles and nuclear weapons an activist expansionist iran pursuing its own nuclear arsenal a resurgent taliban in afghanistanand an emerging civil war in iraq russia and china pursuing their own interests often at odds with such global imperatives as nuclear nonproliferation and ending genocide in darfur oil has never been more important in funding unstable anti american governments and yet we have failed to make the investments necessary to move more rapidly to alternative fuels a policy that is now as important to our national security and our mideast strategy as to our economy and environment the lost opportunities of the years since september th are the stuff of tragedy remember the people rallying in sympathy on the streets of tehran the famous headline we are all americans now five years later much of the world wonders what america is now as we face this landscape of failure and disorder nothing is more urgent than for us to begin again to rebuild a bipartisan consensus to ensure our interests increase our security and advance our values it could well start with what our founders had in mind when they pledged a decent respect for the opinions of mankind in the declaration of independence i think its fair to say we are now all internationalists and we are all realists this administrations choices were false ones internationalism versus unilateralism realism versus idealism is there really any argument that america must remain a preeminent leader for peace and freedom and yet we must be more willing to work in concert with other nations and international institutions to reach common goals the american character is both idealistic and realistic why cant our government reflect that i want to suggest three principles i believe should underlie a bipartisan consensus on national security and consider how they apply to some of the most difficult challenges we face first and most obviously we must by word and deed renew internationalism for a new century we did not face world war ii alone we did not face the cold war alone and we cannot face the global terrorist threat or other profound challenges alone either a terrorist cell may recruit in southeast asia train in central asia find funds in the middle east and plan attacks in the us or europe we can stop a deadly disease anywhere along the line as it hop scotches from continent to continent or we can wait until it arrives at our own doors we can deal with climate change together now or excuse its calamitous consequences later we can turn our back on international institutions or we can modernize and revitalize them and when needed get about the hard work of creating new ones second we must value diplomacy as well as a strong military we should not hesitate to engage in the worlds most difficult conflicts on a diplomatic front we cannot leave the middle east to solve itself or avoid direct talks with north korea when faced with an existential challenge to the life of our nation president kennedy said let us never negotiate from fear but let us never fear to negotiate direct negotiations are not a sign of weakness theyre a sign of leadership third our foreign policy must blend both idealism and realism in the service of american interests if theres one idea that has been floated about over the last six years that i would like to see debunked with all due respect to some of the political scientists in the room it is this false choice between realism and idealism is it realist or idealist to stop nuclear proliferation is it realist or idealist to come together on global warming is it realist or idealist to help developing nations educate their children fight diseases and grow their economies and is it realist or idealist to believe we must turn around the ideology underpinning terrorism strategies with respect to all of the problems we face require a mix of both and each requires building that consensus approach that we then have to do the hard work of bringing others to our side we cannot achieve any of the solutions that we need to be pursuing without american leadership and we cannot achieve any of them alone american foreign policy exists to maintain our security and serve our national interests and in an increasingly interdependent world it is in our interests to stand for human rights to promote religious freedom democracy womens rights social justice and economic empowerment but reality informs us we cannot force others  nations and peoples  to accept those values we have to support those who embrace them and lead by example at our best americans have always lived in a creative tension between idealism and realism between our cleareyed insistence on seeing the world as it actually is and our deeply held desire to remake the world as it ought to be this administration has abandoned that tension for a simplistic division of the world into good and evil theyve refused to talk to anyone on the evil side and some have called that idealistic i call it dangerously unrealistic at the end of the day you have to question whether this administration has led with our values or used our values as a cloak to justify its ideology and unilateralism something is wrong when our pursuit of idealistic goals has turned a good portion of the world against us earlier this year a progressive and conservative anatol lieven and john hulsman wrote a book together called ethical realism you dont have to accept all of their policy proposals to learn something from the common ground they found they remind us of a time when americas leading protestant theologian reinhold niebuhr cautioned us against believing that god was on our side of a time when president dwight david eisenhower rejected rhetoric about a preemptive attack on the soviet union by asking among other things the practical question of how we would occupy the vast country if we won of a time when the editor of foreign affairs invited a littleknown diplomat named george kennan to publish an article an anonymous article that established the bipartisan foundation of our cold war foreign policy in every era we wrestle with how to reconcile the pragmatic with the moral elements of our strength and what we choose to do with both we got it right mostly during the cold war when realists and idealists together built the institutions and policies serving our interests and our values we got it drastically wrong when a small group of ideologues decided we didnt need those institutions or alliances or diplomacy or even the respect of other nations these principles would force a sea change from the current administrations policies if you look at the dangerous situations we face today in iraq afghanistan iran north korea the proliferation of deadly weapons the prosecution of the war on terror you will see the same mistakes repeated over and over the mistaken belief that alliances international institutions all of that irrelevant to american interests the mistaken belief that diplomacy even if backed by force is synonymous with weakness the mistaken belief that our militarys experience in war planning our intelligence communitys objective analysis and our diplomats experience in negotiations could be dismissed and replaced with ideological wishful thinking and in iraq the mistake of waging a preemptive war based on faulty intelligence fanciful scenarios and bluster has turned out to be a onetimeonly doctrine with no deterrent effect we need to return to patient diplomacy backed by military strength and informed by american values let me start with iraq because in human terms this has been a horrible month we mourn the loss of more than  american servicemembers and many hundreds more iraq in political terms we have finally reached the point of complete absurdity the administration announces it will propose timetables or benchmarks and the iraq prime minister denounces them bush says we are adjusting tactics but secretary rumsfeld insists we are staying the course the administration tells iran and syria theyre responsible for helping to keep the peace but wont talk with them about how to do it we continue to deny evident reality proceeding with few  or no  allies and precious little direct communication with people who matter no wonder the american people think we are adrift we need a fundamental change in course and i believe there are three basic parts to that first we need to press consistently privately and publicly the iraq to become serious about achieving an internal reconciliation and political solution and present real consequences for their failing to do so only the iraq government can take action to create the condition for a political settlement instead the government in recent days seems to be going out of its way to rebuff our efforts to move in that direction american credibility is held hostage by an iraq government that will not fulfill its pledge to seek a political resolution of the rights and roles of the sunni minority and to determine how oil revenue is allocated for several years  actually since the summer of   i have pushed the idea that we should establish in iraq an oil trust guaranteeing that every individual iraq would share part of the countrys oil wealth every year instead the oil distribution remains unsettled sunnis have no incentive to stop fighting kurds have no incentive to operate within iraq and shiites have no incentive to stop participating in militias and internecine conflict guaranteeing every iraq a share of the oil revenues at the individual level is one way to try to begin to move beyond the impasse and to give iraq some reason to believe number one we arent there for oil we arent there to support big oil we arent there to line the pockets of the new iraq elite and fatten their swiss bank accounts and to give the iraq also some reason to feel positive about their national government second we do need what many of us have been calling for now for months even years at this point a public international conference of the parties in the region  the turks the saudis egyptians the emirates the jordanians but also the syrians and iranians we need to put everybody on the record as to whether they will make public commitments to respect iraqs sovereignty and to further the task of iraqs stability instead of fearing to negotiate we should fear what happens if we never attempt to negotiate a regional commitment to a stable unified iraq and also iraqs neighbors should fear that as well they would bear the bracet of an allout civil war including millions of fleeing refugees and new bases for regional terrorist operations and thirdly we do need to begin  i had hoped by the end of this year  a phased redeployment i joined with senators levin and reed and the democrat leadership in the senate and the house in proposing a phased redeployment of us troops from iraq during this year  that would also include a change in the mission of us forces to one of training and supporting iraq troops and targeting counterterrorism  clinton thank you all'"
      ]
     },
     "execution_count": 104,
     "metadata": {},
     "output_type": "execute_result"
    }
   ],
   "source": [
    "df_doc_topic.iloc[3922]['abstract']"
   ]
  },
  {
   "cell_type": "code",
   "execution_count": 105,
   "metadata": {
    "scrolled": true
   },
   "outputs": [
    {
     "data": {
      "text/plain": [
       "'international  a    israel gives ultimatum on palestinian vote  prime minister ariel sharon of israel vowed to withhold israel cooperation from palestinian legislative elections scheduled for january if candidate from the militant group hamas take part  a    katrina stirs up iraq concerns  with hurricane katrina already costing the federal government tens of billions of dollars more than  in  americans are very or somewhat concerned that the  billion being spent each month on the war in iraq is draining away money that could be used in the united states according to the latest new york timescbs news poll  a    the rash of car bombings in baghdad this week has underscored how the loosely knit and elusive networks of abu musab alzarqawi and other extremists can still recruit discontented iraq and foreign fighters to launch wellcoordinated attacks  a    insurgents staged a series of suicide bombings and ambushes that left at least  people dead across iraq including an attack on a crowd of shiite worshipers leaving a mosque after weekly prayers  a    us plan on iran hits snag  the bush administration after week of trying to rally international support to confront iran over its nuclear program and to reform the united nations has had a frustrating week rebuffed by important partners and also by a coalition of poor countries increasingly resentful of american power  a    more violence in afghanistan  violence continued in afghanistan with two days to go until parliamentary election as a seventh candidate was shot dead in the countrys restive south and a roadside bomb killed an afghan interpreter working with the american military  a    china offers new korea deal  china proposed a new compromise solution to the north korean nuclear standoff but there were mixed signals about whether the united states and north korea were prepared to come to terms  a    millions for education in africa  six major american foundations encouraged by a rising tide of democracy in africa announced they would spend  million over the next five years to strengthen higher education in seven african countries  a    national  a    fema still falling short officials and victims say  nearly three week after hurricane katrina cut its devastating path fema  the same federal agency that botched the rescue mission  is faltering in its effort to aid hundreds of thousands of storm victims local officials evacuees and top federal relief officials say  a    bush said that rebuilding the gulf coast would cost whatever it costs that he would not raise taxes to pay for the recovery and that at least some of the cost would have to be offset by budget cuts elsewhere  a    officials have set up nine checkpoints around new orleans and increased police and national guard patrols in preparation for the thousands of business owners and residents who are expected to return to the central business district and two other neighborhoods  a    gop joins call for tenet files  senior republican members of congress have joined democrat in asking porter j goss the cia director to declassify and make public an internal agency report that criticizes his predecessor george j tenet and others for lapses on terrorism in advance of the sept  attacks  a    medicare premium to jump  the bush administration announced that the basic medicare premium would shoot up  percent next year mainly because of the increased use of doctors services  a    man said to aid terror group  a maryland man who federal authorities say served as a research assistant to a controversial muslim leader in the local area has been charged with providing equipment and support to a banned terrorist group in pakistan  a    education    katrina education plan faulted  the department of education announced a plan to pay  percent of the educational costs of students and schools affected by hurricane katrina but the plan came under immediate attack from democrat who asserted that a major component  payments to families with children in private schools  amounted to a voucher program  a    religion journal  a    new yorkregion  b    exotic names for newborns a new american classic  the citys department of health and mental hygiene released the name breakdown for the  babies born in new yorkcity in  which showed that some foreignsounding names have become arguably more new york than american classics like carol susan stephen and harry  a    evacuees aided in harlem  using a model developed to help bereaved families after  new york has turned one floor of an old harlem welfare office into a welcoming center where several hundred katrina storm survivors are finding onestop disaster assistance  b    mayor breaks with gop  on the day that senator hillary rodham clinton endorsed the mayoral candidacy of fernando ferrer mayor michael r bloomberg broke with the republican white house and said he opposed the supreme court nomination of judge john g roberts jr because judge roberts did not accept the landmark roe v wade ruling as settled law  b    homeowners new concern  homeowners in new yorkcity already facing rising home heating costs this winter will have to contend with a second major cost increase a sharp and unexpected rise in property tax rates required by state law city officials said  b    sportssaturday  d    arts  b    obituaries  a    sir hermann bondi  an astronomer and mathematician whose ideas about cosmology shaped an important theory about the origin of the universe and who later became a leading science adviser to the british government he was   a    stanley burnshaw  a poet critic editor publisher and novelist who roamed the peaks of the literary world and famously dueled with wallace stevens over poetry and politics he was   a    business day  c    sex on cellphones  the pornography industry is eyeing the cellphone as a lucrative new vehicle for distribution  a    bayous secrets revealed  a note threatening suicide written by the chief financial officer of the bayou group a hedge fund firm accused by prosecutors of conducting a  million fraud answers in sometimes gripping detail the questions that have consumed bayous investors since it imploded a month ago  c    rebuilding on their own    business leaders like quentin dastugue the chief executive of a large new orleans real estate company are not waiting for politicians government officials engineers and city planners to take charge of rebuilding the city  they are starting to do it themselves  c    acquisitions in auto parts  wilbur l ross jr the financier who recently built and then sold north americas largest steel maker hopes to have the same success in the auto industry by transforming a collection of downtrodden auto suppliers into one of the worlds largest auto parts companies  c    business digest  c    editorial  a    editorials insuring a fair recovery the normality of gay marriages smithsons floating sculpture carol e lee on the glitteratis gift bags    columns maureen dowd john tierney    bridge  b  crossword  b  tv listings  b  weather  c'"
      ]
     },
     "execution_count": 105,
     "metadata": {},
     "output_type": "execute_result"
    }
   ],
   "source": [
    "df_doc_topic.iloc[3104]['abstract']"
   ]
  },
  {
   "cell_type": "code",
   "execution_count": 143,
   "metadata": {
    "scrolled": true
   },
   "outputs": [
    {
     "data": {
      "text/plain": [
       "'international   a    reeducation campspose problem for china  a vast penal system in china that is separate from the judicial system and is a relic of the mao era is presenting a dilemma for a modernday communist party that remains obsessed with security and political control   a    sunni refuses cabinet post  one of four sunni arabs picked over the weekend to join iraqs new shiitecontrolled cabinet abruptly rejected the job saying that he learned of his selection from a television news report and adding that he felt it would further a quota system for sunnis that would only make sectarian problems worse   a    insurgents in iraq are drawing on dozens of stockpiled bombrigged cars and groups of foreign fighters smuggled into the country in recent week to carry out most of the suicide attacks that have killed about  people in the last  days senior american officers say   a    bush meets with putin  bush met with president vladimir v putin of russia in what was expected to be a tense encounter after days of recriminations over russian rollbacks on democracy but the top foreign policy advisers to both men swiftly pronounced the meeting a success   a     years after world war ii  germany commemorated the th anniversary of the end of world war ii with church ceremonies and speeches in parliament emphasizing german responsibility for a war that as the countrys president horst köhler put it turned all of europe into a mass graveyard   a    a short political honeymoon  prime minister tony blair of britain is confronting a debate about his tenure in office just days after a national vote in britain that gave him a historic third term   a    israel freezes prisoner release  prime minister ariel sharon of israel ordered a freeze on the release of  palestinian prisoners infuriating the palestinians and embarrassing mahmoud abbas the palestinian leader   a    afghans vote on foreign troops  president hamid karzai in a meeting with more than  representative from the provinces who gathered in kabul won broad support for the continued presence of foreign troops in afghanistan after parliamentary elections in the fall   a    election guidelines in egypt  egypts upper house of parliament approved guidelines for the countrys first multicandidate presidential elections but opposition figures said the rules would exclude real competitors to president hosni mubarak   a    clash over bolton documents  the state department is refusing to make public documents sought by senate democrat in their attempt to seek more information about clashes between john r bolton and american intelligence agencies over syria administration officials say   a    national   a    states propose plans for trimming medicaid  governors and state legislators have devised proposals for sweeping changes in medicaid to curb its rapid growth and save billions of dollars under the proposals which provide guidance to congress some beneficiaries would have to pay more for care and states would have more latitude to limit the scope of services   a    the case of a cuban exile  luis posada carriles left in  has spent  years fighting to overthrow fidel castro now he may have nowhere to hide but the united states mr posada is seeking political asylum here after serving as a soldier for the central intelligence agency in the s his lawyer said but the government of venezuela wants to extradite him for the  bombing of a cuban airliner that killed  people   a    licenses for immigrants  tennessee is one of only two states that issue two different drivers permits a license for citizens and permanent residents and a certificate primarily for those who cannot prove they are here legally to satisfy domestic security concerns the state has tried to forbid the certificates use as identification   a    mistrial in highway shootings  a judge declared a mistrial in the case of a man who admitted to a string of highway shootings one of which killed a woman but claimed innocence by reason of insanity the hung jury came after four full days of deliberations   a    replacing oil imports  bush has proposed reducing oil imports by increasing the use of nuclear power but reactors make electricity not oil and oil does not make much electricity while experts point to three nuclear power options that could cut demand for oil they are limited expensive or dependent on new technologies   a    attorney general softens tone  in his first months as attorney general alberto r gonzales is promoting a softer image for the justice department and seeking to burnish two legacies the departments oftenstrained relations with congress under his predecessor john ashcroft and criticism of his own role in formulating the bush administrations policies on torture   a    obituaries   b    lloyd n cutler  the washington legal mandarin who shuttled between a lucrative private practice and the white house where he was counselor to presidents carter and clinton he was    b    peter w rodino jr  a congressman from newark who impressed the nation by the dignity fairness and firmness he showed as chairman of the impeachment hearings that induced richard m nixon to resign as president he was    b    new yorkregion   b    in new jersey concern over possible targets  a chemical facility in northern new jersey is among dozens of vulnerable sites between newark liberty international airport and port elizabeth that a congressional study in  deemed the nations most enticing environment for terrorists since  concerns have gown but federal antiterrorism money for new jersey has decreased since last year   a    trial for clinton fundraiser  david f rosen the former fundraising director for senator hillary rodham clinton will go on trial on charges that he illegally underreported the cost of a fundraiser held for mrs clintons  senate campaign   b    fire at home for disabled  a resident of a brooklyn home that cares for the mentally disabled was killed in a fire in his bedroom that apparently was ignited by a cigarette fire officials said even though smoking is prohibited in the home about  other patients were evacuated but some were missed in their rooms and others were left unattended in the street for hours   b    sportsmonday   d    heat beat washington  shaquille oneal scored only five points gainst the washington wizards showing signs of rust from a lingering thigh bruise still as it turned out the miami heat didnt need vintage shaq in dispatching the wizards  before a sellout  at americanairlines arena to take a  lead in this eastern conference second round series   d    arts   e    dia plans a move  since the dia art foundation was created in  it has been something of a pioneer more than a decade before fashionable contemporary art galleries moved into chelsea dia operated a museum space there now it has its eye on a derelict building in the next hot neighborhood the meatpacking district   e    business day   c    push to build a refinery  about  miles southwest of phoenix in a remote patch off interstate  glenn mcginnis is seeking to do something that has not been done for  years in the united states he is trying to build an oil refinery   a    target named in sec inquiry  the securities and exchange commission told richard napier a senior executive at general re corporation that it planned to file a civil securities fraud complaint against him two people briefed on the matter said   c    aig said to adjust reserves  executives at the american international group the insurer regularly made changes to the companys reserves to help meet earnings goals through much of the s according to a former employee who was briefed on the adjustments   c    online brokers talk takeover  a takeover skirmish among three of the nations largest online stock brokerage firms broke out over the weekend likely leading to a significant reorganization of the industry that is expected to have an impact on individual investors   a    business digest   c    editorial   a    editorials nature at bay a no confidence vote for mr abbas with every breeze a wheeze philip m boffey on how the national academy of sciences is finding its voice    columns bob herbert paul krugman    autos   d  bridge   e  crossword   e  metro diary   b  tv listings   e  weather   a'"
      ]
     },
     "execution_count": 143,
     "metadata": {},
     "output_type": "execute_result"
    }
   ],
   "source": [
    "df_doc_topic.iloc[2880]['abstract']"
   ]
  },
  {
   "cell_type": "code",
   "execution_count": 144,
   "metadata": {
    "scrolled": true
   },
   "outputs": [
    {
     "data": {
      "text/plain": [
       "'international   a    uskyrgyzstan fuel deal under scrutiny by fbi  two businesses from which the united states bought jet fuel after the american invasion of afghanistan in  are under scrutiny by prosecutors in kyrgyzstan and fbi agents who are looking into whether the kyrgyz president at the time pocketed hundreds of millions of dollars partly from pentagon fuel contracts before he was ousted this year   a    a possible motive in jordan  jordanian investigators said the iraq woman they said had taken part in the deadly amman hotel terror attacks had volunteered to become a suicide bomber because three of her brothers were killed during operations in iraq   a    marines killed in iraq offensive  two marines were killed and at least nine wounded in ambushes and fierce street battles as thousands of american and iraq troops stormed ubaydi a riverside town near the syrian border that american commanders say has become a haven for foreign jihadists   a    prime minister tony blair said it was possible that britain could withdraw its troops from iraq by the end of next year   a    rice pushes for deal in gaza  secretary of state condoleezza rice struggled into the early morning hours to conclude what americans hoped would be a broad agreement to take steps to enhance gazas viability after israels withdrawal   a    chirac addresses france  president jacques chirac addressing his country for the first time since unrest broke out said that he had asked parliament to extend a national state of emergency and that he would set up a program that would provide jobs for youths       venezuela pulls envoy to mexico  venezuela withdrew its ambassador from mexico further straining relations between the countries after president hugo chávez of venezuela refused to apologize for insulting president vicente fox of mexico   a    national   a    court says parents carry burden of proof on schools  the supreme court ruled in a closely watched education case that parents who disagree with a school systems specialeducation plan for their child have the legal burden of proving that the plan will not provide the appropriate education to which federal law entitles all children with disabilities   a    pill rejected before review  top federal drug officials decided to reject an application to allow overthecounter sales of the morningafter pill months before a government scientific review of the application was even completed according to accounts given to congressional investigators   a    gop calls for plan to end war  in a sign of increasing unease among congressional republican over the war in iraq the senate is to consider a republican proposal that calls for iraq forces to take the lead next year in securing the nation and for the bush administration to lay out its strategy for ending the war   a    changing attitudes on taxes  vote in california colorado and washington state rejected ballot measures that would have rolled back tax increases or limited state spending some say the votes could mark a turning point in a decadesold revolt against high taxes that got its start in  with proposition    a    lawsuit seeks drug coverage  eight advocacy groups from maine to california sued the federal government to make sure impoverished older and disabled americans do not lose access to lifesaving medications when medicare replaces medicaid on january    a    budget office director to leave  douglas j holtzeakin a former white house economist who has often been a thorn in the side of the bush administration since he became director of the nonpartisan congressional budget office announced that he planned to retire   a    new yorkregion   b    for bloomberg vote common ground was key  aides to mayor bloomberg say they compiled a vast database of vote tastes and profiles by calling them and asking them directly rather than making assumptions based on public records in this way they were able to develop portraits of city vote based on shared everyday interests and concerns not on their broader differences   b    clintons end israel tour  hillary rodham clinton may be race for reelection to the united states senate next year but as she wrapped up her threeday tour of israel with her husband and their daughter it became clear that many people in the mideast expect her to race for another office president   b    school auditor admits guilt  andrew miller the roslyn schools outside auditor has admitted slipping into the district office one night at the behest of the superintendent and altering records to hide from investigators some of the  million stolen from taxpayer funds   b    neediest cases   b    science times   f    health  fitness   f    sportstuesday   d    rodriguez wins mvp award  alex rodriguez third baseman for the yankees won the most valuable player award he finished first on  of the  ballots   d    arts   e    obituaries   a    vine deloria jr  an influential advocate of american indian rights he was    a    business day   c    winters natural gas cracech  the threat of higher prices and potential shortages of natural gas are rippling through the economy and with more than half of the nations homes heated by natural gas millions of americans are already bracing for big price increases this winter   c    russias bountiful revenue from oil exports has increased the value of its currency and threatens to kindle inflation   c    optimism from walmart  walmart reported its smallest quarterly profit gain in four years but predicted that an aggressive marketing campaign would result in strong holiday sales   c    hearing on new fed chief  the senate confirmation hearing for ben s bernanke bushs nominee to lead the federal reserve begins today mr bernanke will probably face tough questions regarding his views on inflation   c    business digest   c    editorial   a    editorials decoding mr bushs denials strange behavior at the fda congresss threadbare budget politics    columns john tierney nicholas d kristof    crossword   e  tv listings   e  weather   d'"
      ]
     },
     "execution_count": 144,
     "metadata": {},
     "output_type": "execute_result"
    }
   ],
   "source": [
    "df_doc_topic.iloc[3204]['abstract']"
   ]
  },
  {
   "cell_type": "markdown",
   "metadata": {},
   "source": [
    "#### Abstracts from Topic 3"
   ]
  },
  {
   "cell_type": "code",
   "execution_count": 145,
   "metadata": {
    "scrolled": true
   },
   "outputs": [
    {
     "data": {
      "text/plain": [
       "3913    0.499\n",
       "6568    0.475\n",
       "7613    0.466\n",
       "8050    0.451\n",
       "3248    0.445\n",
       "        ...  \n",
       "9117    0.000\n",
       "9118    0.000\n",
       "9120    0.000\n",
       "9121    0.000\n",
       "0       0.000\n",
       "Name: component_3, Length: 16441, dtype: float64"
      ]
     },
     "execution_count": 145,
     "metadata": {},
     "output_type": "execute_result"
    }
   ],
   "source": [
    "df_doc_topic['component_3'].sort_values(ascending=False)"
   ]
  },
  {
   "cell_type": "code",
   "execution_count": 146,
   "metadata": {
    "scrolled": true
   },
   "outputs": [
    {
     "data": {
      "text/plain": [
       "'i might    the news  will he or wont he his answer has always been a seemingly decided wont but last sunday obama said he would consider considering a race for the presidency in     behind the news  speculation has tracked the freshman senator from illinois since his speech at the democrat national convention in  mr obama has routinely deflected such speculation saying that he would finish his term before acting on any further ambitions but on the nbc program meet the press last week he said i dont want to be coy about this given the responses that ive been getting over the last several months i have thought about the possibility but i have not thought about it with the seriousness and depth that i think is required  the shift puts mr obama squarely in the path of senator hillary rodham clinton of new york    i didnt    the news  the iraq prime minister nuri kamal almaliki said on wednesday that he had not agreed to a timetable for stabilizing iraq    behind the news  a day earlier the top two united states officials in iraq gen george w casey jr and ambassador zalmay khalilzad announced such a timetable for political measures and said it had been approved by the iraq government if that was a bluff it was called when mr maliki said i want to stress that this is a government of the peoples will and no one has the right to set a timetable for it     the ambassador and the general of course were addressing themselves primarily to an american audience while mr maliki had his own iraq audience to attend to    i meant    the news  the daily news reported that john spencer who is challenging hillary rodham clinton for her senate seat from new york disparaged her looks and suggested that she had paid millions to improve them mr spencer called the report a complete fabrication but then acknowledged that he had talked about mrs clintons changing style in the context of everyone looking different as they age    behind the news  mr spencer denied having called mrs clinton unattractive in his impromptu interview with the daily news but a columnist for the journal news in westchester county said that in a separate conversation mr spencer said words to the effect of well you know me words slip out but i wont call her a lesbian or anything  mr spencer did distance himself from that remark rob ryan his spokesman said if he offended anyone he apologizes    i erred    the news  rush limbaugh told radio listeners that michael j fox exaggerated symptoms of his parkinsons disease in a television ad for democrat who support embryonic stemcell research    behind the news  mr limbaugh later said now people are telling me they have seen michael j fox in interviews and he does appear the same way in the interviews as he does in this commercial all right then i stand corrected  so i will bigly hugely admit that i was wrong and i will apologize to michael j fox if i am wrong in characterizing his behavior on this commercial as an act mr fox who played an archconservative young republican in the s sitcom family ties is just shilling for a democrat politician mr limbaugh said after his bigly apology mr fox though has also supported a republican senator arlen specter on stem cells'"
      ]
     },
     "execution_count": 146,
     "metadata": {},
     "output_type": "execute_result"
    }
   ],
   "source": [
    "df_doc_topic.iloc[3913]['abstract']"
   ]
  },
  {
   "cell_type": "code",
   "execution_count": 147,
   "metadata": {},
   "outputs": [
    {
     "data": {
      "text/plain": [
       "'dallas  senator hillary rodham clinton escalated her attack on senator obama qualifications to be president on saturday arguing that both she and the presumptive republican nominee senator mccain could offer vote a lifetime of experience while obama could only hold out his  speech opposing the iraq war'"
      ]
     },
     "execution_count": 147,
     "metadata": {},
     "output_type": "execute_result"
    }
   ],
   "source": [
    "df_doc_topic.iloc[6568]['abstract']"
   ]
  },
  {
   "cell_type": "code",
   "execution_count": 148,
   "metadata": {},
   "outputs": [
    {
     "data": {
      "text/plain": [
       "'bristol virginia  senator hillary rodham clinton on thursday disavowed a campaign by some of her supporters to press senator obama into selecting her as the democrat party vice presidential candidate clinton said the supporters were acting on their own and that the choice of a race mate was senator obama and his alone'"
      ]
     },
     "execution_count": 148,
     "metadata": {},
     "output_type": "execute_result"
    }
   ],
   "source": [
    "df_doc_topic.iloc[7613]['abstract']"
   ]
  },
  {
   "cell_type": "code",
   "execution_count": 149,
   "metadata": {
    "scrolled": true
   },
   "outputs": [
    {
     "data": {
      "text/plain": [
       "'st paul  senator obama will increasingly lean on prominent democrat women to undercut governor sarah palin and senator mccain dispatching senator hillary rodham clinton to florida on monday and creating a rapidresponse team to deploy female surrogates to battleground states obama advisers said on thursday'"
      ]
     },
     "execution_count": 149,
     "metadata": {},
     "output_type": "execute_result"
    }
   ],
   "source": [
    "df_doc_topic.iloc[8050]['abstract']"
   ]
  },
  {
   "cell_type": "code",
   "execution_count": 124,
   "metadata": {
    "scrolled": true
   },
   "outputs": [
    {
     "data": {
      "text/plain": [
       "'i might    the news  will he or wont he his answer has always been a seemingly decided wont but last sunday obama said he would consider considering a race for the presidency in     behind the news  speculation has tracked the freshman senator from illinois since his speech at the democrat national convention in  mr obama has routinely deflected such speculation saying that he would finish his term before acting on any further ambitions but on the nbc program meet the press last week he said i dont want to be coy about this given the responses that ive been getting over the last several months i have thought about the possibility but i have not thought about it with the seriousness and depth that i think is required  the shift puts mr obama squarely in the path of senator hillary rodham clinton of new york    i didnt    the news  the iraq prime minister nuri kamal almaliki said on wednesday that he had not agreed to a timetable for stabilizing iraq    behind the news  a day earlier the top two united states officials in iraq gen george w casey jr and ambassador zalmay khalilzad announced such a timetable for political measures and said it had been approved by the iraq government if that was a bluff it was called when mr maliki said i want to stress that this is a government of the peoples will and no one has the right to set a timetable for it     the ambassador and the general of course were addressing themselves primarily to an american audience while mr maliki had his own iraq audience to attend to    i meant    the news  the daily news reported that john spencer who is challenging hillary rodham clinton for her senate seat from new york disparaged her looks and suggested that she had paid millions to improve them mr spencer called the report a complete fabrication but then acknowledged that he had talked about mrs clintons changing style in the context of everyone looking different as they age    behind the news  mr spencer denied having called mrs clinton unattractive in his impromptu interview with the daily news but a columnist for the journal news in westchester county said that in a separate conversation mr spencer said words to the effect of well you know me words slip out but i wont call her a lesbian or anything  mr spencer did distance himself from that remark rob ryan his spokesman said if he offended anyone he apologizes    i erred    the news  rush limbaugh told radio listeners that michael j fox exaggerated symptoms of his parkinsons disease in a television ad for democrat who support embryonic stemcell research    behind the news  mr limbaugh later said now people are telling me they have seen michael j fox in interviews and he does appear the same way in the interviews as he does in this commercial all right then i stand corrected  so i will bigly hugely admit that i was wrong and i will apologize to michael j fox if i am wrong in characterizing his behavior on this commercial as an act mr fox who played an archconservative young republican in the s sitcom family ties is just shilling for a democrat politician mr limbaugh said after his bigly apology mr fox though has also supported a republican senator arlen specter on stem cells'"
      ]
     },
     "execution_count": 124,
     "metadata": {},
     "output_type": "execute_result"
    }
   ],
   "source": [
    "df_doc_topic.iloc[3913]['abstract']"
   ]
  },
  {
   "cell_type": "code",
   "execution_count": 125,
   "metadata": {},
   "outputs": [
    {
     "data": {
      "text/plain": [
       "3239     1.276\n",
       "2908     1.075\n",
       "3238     1.025\n",
       "319      0.748\n",
       "91       0.721\n",
       "         ...  \n",
       "5451     0.000\n",
       "10560    0.000\n",
       "10559    0.000\n",
       "5455     0.000\n",
       "8220     0.000\n",
       "Name: component_4, Length: 16441, dtype: float64"
      ]
     },
     "execution_count": 125,
     "metadata": {},
     "output_type": "execute_result"
    }
   ],
   "source": [
    "df_doc_topic['component_4'].sort_values(ascending=False)"
   ]
  },
  {
   "cell_type": "code",
   "execution_count": 126,
   "metadata": {},
   "outputs": [
    {
     "data": {
      "text/plain": [
       "'jeanine f pirro the westchester county district attorney has been race for the united states senate since august but her candidacy has been dogged by setbacks    may  ms pirro announces she will not seek reelection as district attorney a move that raises speculation about whether she will race for governor or for the senate seat held by hillary rodham clinton    aug  prodded by new york republican leaders and encouraged by some white house officials ms pirro announces her senate bid    aug  officially opening her campaign with news conferences throughout the state ms pirro stumbles pausing awkwardly on live television she also fails to answer specific policy questions and refuses to say whether she will take campaign money from her husband who spent time in prison on a tax conviction    oct  the pirro campaign trying to raise  million to challenge reports that it has collected slightly more than  since ms pirro announced her candidacy    nov  state senator joseph l braceo the most powerful republican in the legislature urges ms pirro to pull out of the senate race    dec governorgeorge e pataki and ms pirro discuss the possibility of her quitting the senate race after the meeting ms pirro says she remains a candidate    dec  the state republican party leadership urges ms pirro to withdraw and instead race for state attorney general but ms pirro refuses'"
      ]
     },
     "execution_count": 126,
     "metadata": {},
     "output_type": "execute_result"
    }
   ],
   "source": [
    "df_doc_topic.iloc[3239]['abstract']"
   ]
  },
  {
   "cell_type": "code",
   "execution_count": 127,
   "metadata": {
    "scrolled": true
   },
   "outputs": [
    {
     "data": {
      "text/plain": [
       "'international   a    syria ending cooperation with us its envoy says  syria has halted military and intelligence cooperation with the united states its ambassador to washington said in an interview in a sign of growing strains between the two countries over the insurgency in iraq   a    karzai talks with bush  afghanistans president hamid karzai raised with bush the treatment of afghan prisoners held by the united states but mr   bush did not commit to when he would be willing to give the kabul government control over prisoners taken by the american military   a    car bombs kill  in iraq  insurgents carried out three car bomb attacks against iraq shiites killing at least  people and wounding  in what appeared to be the latest in a wave of violence intended to exploit the sectarian divisions that have damaged the country   a    election order in iran disputed  ayatollah ali khamenei irans supreme religious leader ordered a watchdog group dominated by his hardline allies to review its decision blocking two reformist candidate from race in the election for president next month   a    palestinian vote delay possible  the palestinian election commission said legislative elections scheduled for july  might have to be delayed because of a dispute over a new election law   a    zimbabwe arrests peddlers  zimbabwes government with grocery stores bereft of basic goods and the currency in freefall said it had rounded up more than  residents of the capital harare in a crackdown on blackmarket peddlers   a    bbc employees on strike  thousands of employees of the british broadcasting corporation took part in a strike over the companys plans to cut nearly  jobs in the next three years the bbc had to curtail much of its live television and radio coverage because of the strike set to last  hours   a    national   a     senators reach accord on judicial nominees  a bipartisan group of  senators struck a lastsecond agreement that defused  at least for now  a potentially explosive parliamentary showdown over eliminating senate filibusters against judicial nominees   a    justices to hear abortion case  the supreme court accepted its first abortion case in five years an unexpected development that is likely to add even more heat to the already supercharged atmosphere surrounding the court and its immediate future   a    trial opens over governorship  republican lawyers told a judge that the election putting christine gregoire in the washington governors office was stolen from the republican candidate   a    free speech ruling issued  the supreme court ruled that a governmentimposed assessment on beef producers to pay for the beef its whats for dinner marketing campaign does not violate the freespeech rights of ranchers who want to opt out of the program   a    new charge for exanalyst  a former pentagon analyst accused of illegally disclosing military secrets is to be charged with another count of illegally keeping classified documents at his home   a    soldier on trial defends actions  an american soldier accused of murdering an iraq police officer while they were on patrol together and then concocting a story about being shot during a gun battle said he had made a splitsecond decision to open fire in selfdefense   a    education    nongraduates left behind  almost one in three americans in their mids are opting to be college nongraduates choosing to enter the work force instead the dropouts who are workingclass americans are often unable to advance without a degree   a    new yorkregion   b    a popular district attorney to seek statewide office  under heavy pressure to race against senator hillary rodham clinton in  jeanine f pirro the popular republican district attorney of westchester county said that she would not seek reelection this fall but instead enter the united states senate race or another statewide contest next year   b    campaign finance inquiry  as representative anthony d weiner pursues his race for mayor he has been tapping into his congressional campaign to pay some of the same people who work on his mayoral campaign raising questions about whether the payments comply with city campaign finance rules   b    officials seize adult home  new yorkstate officials seized control of the brooklyn manor adult home saying that the mentally ill residents who live there were in imminent danger because of gross abuses on the part of the management   b    science times   f    health  fitness   f    sportstuesday   d    myskina loses at french open  spains maria sánchez lorenzo defeated russian anastasia myskina by a score of    in the first round of the french open at roland garros stadium myskina became the first defending womens champion to lose in the first round of the open   d    arts   e    obituaries   b    paul ricoeur  professor and author whose work on fundamental questions about the nature of human existence made him one of the most eminent philosophers of the th century he was    b    business day   c    heart device contains flaw  the guidant corporation a medical device maker did not tell doctors or patients for three years of a flaw in a heart device that was implanted in an estimated  people the flaw has caused a small number of the devices to shortcircuit and malfunction   a    banks barred from new fee  the department of labor has issued an advisory opinion that banks brokerage firms and investment firms cannot accept payments from mutual fund companies in exchange for steering retirement account customers into those funds   c    new drug from genentech  a new drug developed by genentech significantly improved the eyesight of people with agerelated macular degeneration a condition that is the leading cause of blindness in the elderly   c    job market still tough  the unemployment rate is relatively low at  percent and hiring has started to pick up but for middleaged women and better educated whitecollar workers longterm unemployment has increased   c    business digest   c    editorial   a    editorials weapons in space facing up to the tragedy of war block that stadium vote verlyn klinkenborg on los angeles    columns john tierney nicholas d kristof    crossword   e  weather   c  tv listings   e'"
      ]
     },
     "execution_count": 127,
     "metadata": {},
     "output_type": "execute_result"
    }
   ],
   "source": [
    "df_doc_topic.iloc[2908]['abstract']"
   ]
  },
  {
   "cell_type": "code",
   "execution_count": 128,
   "metadata": {
    "scrolled": true
   },
   "outputs": [
    {
     "data": {
      "text/plain": [
       "'new york republican party leaders reverse course urging jeanine f pirro to quit her bid to unseatsenatorhillary rodham clinton and race for state attorney general pirro immediately rejects suggestion shift by party leaders six months after they recruited pirro to race for senate signals mounting disarray of state party as it faces possible loss of governors mansion and its majority in state senate in  if as expected pirro does pull out of senate race party will be left without highprofile challenger to clinton as she seeks commanding reelection victory decision to urge pirro to withdraw from senate race comes after public bickering over her mistakeridden campaign party leaders hope she can save her career and reputation by race for state attorney general other republican leaders warn that they would consider other possible candidate for attorney general if she does not switch races by end of year advisers to clinton are delighted that race so far has centered on pirros foibles and gaffes instead of substantive issues timeline of major events and setbacks in her bid for senate photo'"
      ]
     },
     "execution_count": 128,
     "metadata": {},
     "output_type": "execute_result"
    }
   ],
   "source": [
    "df_doc_topic.iloc[3238]['abstract']"
   ]
  },
  {
   "cell_type": "code",
   "execution_count": 129,
   "metadata": {},
   "outputs": [
    {
     "data": {
      "text/plain": [
       "'new york timescbs news poll finds despite change of opponent steady diet of television advertising and vigorous schedule of trips around new yorkstate hillary rodham clintons campaign for us senate appears largely stuck in place finds clinton locked in close race with republican repr lazio opponent so unknown that most new yorkers are unable to offer any opinion of him finds his replacement for mayor giuliani as republican candidate has scrambled dynamics of race clinton is swamping lazio in new yorkcity as notable number of giuliani supporters have switched reverting to historical party voting habits conversely lazio who is more conventional statewide republican candidate than giuliani seems to be blunting clintons usually competitive position in upstate new york which usually favors republican by large numbers findings of poll detailed charts'"
      ]
     },
     "execution_count": 129,
     "metadata": {},
     "output_type": "execute_result"
    }
   ],
   "source": [
    "df_doc_topic.iloc[319]['abstract']"
   ]
  },
  {
   "cell_type": "markdown",
   "metadata": {},
   "source": [
    "#### TF-IDF"
   ]
  },
  {
   "cell_type": "code",
   "execution_count": 1073,
   "metadata": {},
   "outputs": [],
   "source": [
    "cv_tfidf = TfidfVectorizer(stop_words=stopword_list)"
   ]
  },
  {
   "cell_type": "code",
   "execution_count": 1074,
   "metadata": {},
   "outputs": [],
   "source": [
    "X_tfidf = cv_tfidf.fit_transform(df['abstract'].values.astype('U'))"
   ]
  },
  {
   "cell_type": "markdown",
   "metadata": {},
   "source": [
    "#### LSA with TF-IDF"
   ]
  },
  {
   "cell_type": "code",
   "execution_count": 1076,
   "metadata": {},
   "outputs": [],
   "source": [
    "lsa_2 = TruncatedSVD(2)"
   ]
  },
  {
   "cell_type": "code",
   "execution_count": 1077,
   "metadata": {},
   "outputs": [],
   "source": [
    "doc_topic = lsa_2.fit_transform(X_tfidf)"
   ]
  },
  {
   "cell_type": "code",
   "execution_count": 1078,
   "metadata": {},
   "outputs": [
    {
     "data": {
      "text/plain": [
       "array([0.00272199, 0.00706746])"
      ]
     },
     "execution_count": 1078,
     "metadata": {},
     "output_type": "execute_result"
    }
   ],
   "source": [
    "lsa_2.explained_variance_ratio_"
   ]
  },
  {
   "cell_type": "code",
   "execution_count": 1079,
   "metadata": {},
   "outputs": [
    {
     "name": "stdout",
     "output_type": "stream",
     "text": [
      "\n",
      "Topic  0\n",
      "senator, democrat, obama, campaign, presidential, candidate, president, republican, state, york\n",
      "\n",
      "Topic  1\n",
      "editor, marthas, readers, times, magazine, timess, reporters, political, cheney, autism\n"
     ]
    }
   ],
   "source": [
    "display_topics(lsa_2, cv_tfidf.get_feature_names(), 10)"
   ]
  },
  {
   "cell_type": "markdown",
   "metadata": {},
   "source": [
    "#### NMF with TF-IDF"
   ]
  },
  {
   "cell_type": "code",
   "execution_count": 1080,
   "metadata": {},
   "outputs": [],
   "source": [
    "nmf_model_2 = NMF(2)"
   ]
  },
  {
   "cell_type": "code",
   "execution_count": 1081,
   "metadata": {},
   "outputs": [],
   "source": [
    "doc_topic = nmf_model_2.fit_transform(X_tfidf)"
   ]
  },
  {
   "cell_type": "code",
   "execution_count": 1082,
   "metadata": {},
   "outputs": [
    {
     "name": "stdout",
     "output_type": "stream",
     "text": [
      "\n",
      "Topic  0\n",
      "senator, democrat, obama, campaign, presidential, candidate, president, republican, state, york\n",
      "\n",
      "Topic  1\n",
      "editor, marthas, political, times, readers, magazine, reporters, timess, public, cheney\n"
     ]
    }
   ],
   "source": [
    "display_topics(nmf_model_2, cv_tfidf.get_feature_names(), 10)"
   ]
  },
  {
   "cell_type": "code",
   "execution_count": null,
   "metadata": {},
   "outputs": [],
   "source": []
  }
 ],
 "metadata": {
  "kernelspec": {
   "display_name": "Python 3",
   "language": "python",
   "name": "python3"
  },
  "language_info": {
   "codemirror_mode": {
    "name": "ipython",
    "version": 3
   },
   "file_extension": ".py",
   "mimetype": "text/x-python",
   "name": "python",
   "nbconvert_exporter": "python",
   "pygments_lexer": "ipython3",
   "version": "3.8.5"
  }
 },
 "nbformat": 4,
 "nbformat_minor": 4
}

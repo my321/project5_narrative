{
 "cells": [
  {
   "cell_type": "code",
   "execution_count": 1,
   "metadata": {},
   "outputs": [],
   "source": [
    "import requests\n",
    "import os\n",
    "from pprint import pprint\n",
    "import csv\n",
    "import json\n",
    "import time"
   ]
  },
  {
   "cell_type": "markdown",
   "metadata": {},
   "source": [
    "### Add articles from 2000-2004, Scrape by certain date range since we can only have 100 pages worth of results (10 articls per page), and sleep for 6 seconds after every page turn, save each page in different json file since not all results have same dictionary key \n"
   ]
  },
  {
   "cell_type": "code",
   "execution_count": 2,
   "metadata": {},
   "outputs": [],
   "source": [
    "apikey = os.getenv('NYTIMES_APIKEY', 'ufJL0jZynKn50qXLjAtOHxARJRhSs4en')"
   ]
  },
  {
   "cell_type": "code",
   "execution_count": 3,
   "metadata": {},
   "outputs": [],
   "source": [
    "#2000-2004 yearly \n",
    "for i in range(0,91):\n",
    "    query = \"Clinton, Hillary Rodham\"\n",
    "    begin_date = \"20000101\"  # YYYYMMDD\n",
    "    end_date='20010101'\n",
    "    filter_query = \"\\\"body:(\\\"Hillary Clinton\\\") AND type_of_material:(\\\"Article\\\")\\\"\"  \n",
    "                                            # http://www.lucenetutorial.com/lucene-query-syntax.html\n",
    "    page = i  # <0-100>\n",
    "    sort = \"relevance\"  # newest, oldest\n",
    "    query_url = f\"https://api.nytimes.com/svc/search/v2/articlesearch.json?\" \\\n",
    "                f\"q={query}\" \\\n",
    "                f\"&api-key={apikey}\" \\\n",
    "                f\"&begin_date={begin_date}\" \\\n",
    "                f\"&end_date={end_date}\" \\\n",
    "                f\"&fq={filter_query}\" \\\n",
    "                f\"&page={page}\" \\\n",
    "                f\"&sort={sort}\"\n",
    "    r = requests.get(query_url)\n",
    "    keys=r.json()['response']['docs'][0].keys()\n",
    "    file = r.json()['response']['docs']\n",
    "        \n",
    "    name_file=\"clinton16_{num}.json\".format(num=i) \n",
    "    with open(name_file, 'w') as output_file:\n",
    "        json.dump(file, output_file)\n",
    "    time.sleep(6)"
   ]
  },
  {
   "cell_type": "code",
   "execution_count": 4,
   "metadata": {},
   "outputs": [
    {
     "ename": "IndexError",
     "evalue": "list index out of range",
     "output_type": "error",
     "traceback": [
      "\u001b[0;31m---------------------------------------------------------------------------\u001b[0m",
      "\u001b[0;31mIndexError\u001b[0m                                Traceback (most recent call last)",
      "\u001b[0;32m<ipython-input-4-bb26e0521490>\u001b[0m in \u001b[0;36m<module>\u001b[0;34m\u001b[0m\n\u001b[1;32m     17\u001b[0m                 \u001b[0;34mf\"&sort={sort}\"\u001b[0m\u001b[0;34m\u001b[0m\u001b[0;34m\u001b[0m\u001b[0m\n\u001b[1;32m     18\u001b[0m     \u001b[0mr\u001b[0m \u001b[0;34m=\u001b[0m \u001b[0mrequests\u001b[0m\u001b[0;34m.\u001b[0m\u001b[0mget\u001b[0m\u001b[0;34m(\u001b[0m\u001b[0mquery_url\u001b[0m\u001b[0;34m)\u001b[0m\u001b[0;34m\u001b[0m\u001b[0;34m\u001b[0m\u001b[0m\n\u001b[0;32m---> 19\u001b[0;31m     \u001b[0mkeys\u001b[0m\u001b[0;34m=\u001b[0m\u001b[0mr\u001b[0m\u001b[0;34m.\u001b[0m\u001b[0mjson\u001b[0m\u001b[0;34m(\u001b[0m\u001b[0;34m)\u001b[0m\u001b[0;34m[\u001b[0m\u001b[0;34m'response'\u001b[0m\u001b[0;34m]\u001b[0m\u001b[0;34m[\u001b[0m\u001b[0;34m'docs'\u001b[0m\u001b[0;34m]\u001b[0m\u001b[0;34m[\u001b[0m\u001b[0;36m0\u001b[0m\u001b[0;34m]\u001b[0m\u001b[0;34m.\u001b[0m\u001b[0mkeys\u001b[0m\u001b[0;34m(\u001b[0m\u001b[0;34m)\u001b[0m\u001b[0;34m\u001b[0m\u001b[0;34m\u001b[0m\u001b[0m\n\u001b[0m\u001b[1;32m     20\u001b[0m     \u001b[0mfile\u001b[0m \u001b[0;34m=\u001b[0m \u001b[0mr\u001b[0m\u001b[0;34m.\u001b[0m\u001b[0mjson\u001b[0m\u001b[0;34m(\u001b[0m\u001b[0;34m)\u001b[0m\u001b[0;34m[\u001b[0m\u001b[0;34m'response'\u001b[0m\u001b[0;34m]\u001b[0m\u001b[0;34m[\u001b[0m\u001b[0;34m'docs'\u001b[0m\u001b[0;34m]\u001b[0m\u001b[0;34m\u001b[0m\u001b[0;34m\u001b[0m\u001b[0m\n\u001b[1;32m     21\u001b[0m \u001b[0;34m\u001b[0m\u001b[0m\n",
      "\u001b[0;31mIndexError\u001b[0m: list index out of range"
     ]
    }
   ],
   "source": [
    "#2000-2004 yearly \n",
    "for i in range(0,91):\n",
    "    query = \"Clinton, Hillary Rodham\"\n",
    "    begin_date = \"20010102\"  # YYYYMMDD\n",
    "    end_date='20020101'\n",
    "    filter_query = \"\\\"body:(\\\"Hillary Clinton\\\") AND type_of_material:(\\\"Article\\\")\\\"\"  \n",
    "                                            # http://www.lucenetutorial.com/lucene-query-syntax.html\n",
    "    page = i  # <0-100>\n",
    "    sort = \"relevance\"  # newest, oldest\n",
    "    query_url = f\"https://api.nytimes.com/svc/search/v2/articlesearch.json?\" \\\n",
    "                f\"q={query}\" \\\n",
    "                f\"&api-key={apikey}\" \\\n",
    "                f\"&begin_date={begin_date}\" \\\n",
    "                f\"&end_date={end_date}\" \\\n",
    "                f\"&fq={filter_query}\" \\\n",
    "                f\"&page={page}\" \\\n",
    "                f\"&sort={sort}\"\n",
    "    r = requests.get(query_url)\n",
    "    keys=r.json()['response']['docs'][0].keys()\n",
    "    file = r.json()['response']['docs']\n",
    "        \n",
    "    name_file=\"clinton17_{num}.json\".format(num=i) \n",
    "    with open(name_file, 'w') as output_file:\n",
    "        json.dump(file, output_file)\n",
    "    time.sleep(6)"
   ]
  },
  {
   "cell_type": "code",
   "execution_count": 5,
   "metadata": {},
   "outputs": [
    {
     "ename": "IndexError",
     "evalue": "list index out of range",
     "output_type": "error",
     "traceback": [
      "\u001b[0;31m---------------------------------------------------------------------------\u001b[0m",
      "\u001b[0;31mIndexError\u001b[0m                                Traceback (most recent call last)",
      "\u001b[0;32m<ipython-input-5-7e30c8c78cb0>\u001b[0m in \u001b[0;36m<module>\u001b[0;34m\u001b[0m\n\u001b[1;32m     17\u001b[0m                 \u001b[0;34mf\"&sort={sort}\"\u001b[0m\u001b[0;34m\u001b[0m\u001b[0;34m\u001b[0m\u001b[0m\n\u001b[1;32m     18\u001b[0m     \u001b[0mr\u001b[0m \u001b[0;34m=\u001b[0m \u001b[0mrequests\u001b[0m\u001b[0;34m.\u001b[0m\u001b[0mget\u001b[0m\u001b[0;34m(\u001b[0m\u001b[0mquery_url\u001b[0m\u001b[0;34m)\u001b[0m\u001b[0;34m\u001b[0m\u001b[0;34m\u001b[0m\u001b[0m\n\u001b[0;32m---> 19\u001b[0;31m     \u001b[0mkeys\u001b[0m\u001b[0;34m=\u001b[0m\u001b[0mr\u001b[0m\u001b[0;34m.\u001b[0m\u001b[0mjson\u001b[0m\u001b[0;34m(\u001b[0m\u001b[0;34m)\u001b[0m\u001b[0;34m[\u001b[0m\u001b[0;34m'response'\u001b[0m\u001b[0;34m]\u001b[0m\u001b[0;34m[\u001b[0m\u001b[0;34m'docs'\u001b[0m\u001b[0;34m]\u001b[0m\u001b[0;34m[\u001b[0m\u001b[0;36m0\u001b[0m\u001b[0;34m]\u001b[0m\u001b[0;34m.\u001b[0m\u001b[0mkeys\u001b[0m\u001b[0;34m(\u001b[0m\u001b[0;34m)\u001b[0m\u001b[0;34m\u001b[0m\u001b[0;34m\u001b[0m\u001b[0m\n\u001b[0m\u001b[1;32m     20\u001b[0m     \u001b[0mfile\u001b[0m \u001b[0;34m=\u001b[0m \u001b[0mr\u001b[0m\u001b[0;34m.\u001b[0m\u001b[0mjson\u001b[0m\u001b[0;34m(\u001b[0m\u001b[0;34m)\u001b[0m\u001b[0;34m[\u001b[0m\u001b[0;34m'response'\u001b[0m\u001b[0;34m]\u001b[0m\u001b[0;34m[\u001b[0m\u001b[0;34m'docs'\u001b[0m\u001b[0;34m]\u001b[0m\u001b[0;34m\u001b[0m\u001b[0;34m\u001b[0m\u001b[0m\n\u001b[1;32m     21\u001b[0m \u001b[0;34m\u001b[0m\u001b[0m\n",
      "\u001b[0;31mIndexError\u001b[0m: list index out of range"
     ]
    }
   ],
   "source": [
    "#2000-2004 yearly \n",
    "for i in range(0,91):\n",
    "    query = \"Clinton, Hillary Rodham\"\n",
    "    begin_date = \"20020102\"  # YYYYMMDD\n",
    "    end_date='20030101'\n",
    "    filter_query = \"\\\"body:(\\\"Hillary Clinton\\\") AND type_of_material:(\\\"Article\\\")\\\"\"  \n",
    "                                            # http://www.lucenetutorial.com/lucene-query-syntax.html\n",
    "    page = i  # <0-100>\n",
    "    sort = \"relevance\"  # newest, oldest\n",
    "    query_url = f\"https://api.nytimes.com/svc/search/v2/articlesearch.json?\" \\\n",
    "                f\"q={query}\" \\\n",
    "                f\"&api-key={apikey}\" \\\n",
    "                f\"&begin_date={begin_date}\" \\\n",
    "                f\"&end_date={end_date}\" \\\n",
    "                f\"&fq={filter_query}\" \\\n",
    "                f\"&page={page}\" \\\n",
    "                f\"&sort={sort}\"\n",
    "    r = requests.get(query_url)\n",
    "    keys=r.json()['response']['docs'][0].keys()\n",
    "    file = r.json()['response']['docs']\n",
    "        \n",
    "    name_file=\"clinton18_{num}.json\".format(num=i) \n",
    "    with open(name_file, 'w') as output_file:\n",
    "        json.dump(file, output_file)\n",
    "    time.sleep(6)"
   ]
  },
  {
   "cell_type": "code",
   "execution_count": 6,
   "metadata": {},
   "outputs": [
    {
     "ename": "IndexError",
     "evalue": "list index out of range",
     "output_type": "error",
     "traceback": [
      "\u001b[0;31m---------------------------------------------------------------------------\u001b[0m",
      "\u001b[0;31mIndexError\u001b[0m                                Traceback (most recent call last)",
      "\u001b[0;32m<ipython-input-6-9d5b2366fe72>\u001b[0m in \u001b[0;36m<module>\u001b[0;34m\u001b[0m\n\u001b[1;32m     17\u001b[0m                 \u001b[0;34mf\"&sort={sort}\"\u001b[0m\u001b[0;34m\u001b[0m\u001b[0;34m\u001b[0m\u001b[0m\n\u001b[1;32m     18\u001b[0m     \u001b[0mr\u001b[0m \u001b[0;34m=\u001b[0m \u001b[0mrequests\u001b[0m\u001b[0;34m.\u001b[0m\u001b[0mget\u001b[0m\u001b[0;34m(\u001b[0m\u001b[0mquery_url\u001b[0m\u001b[0;34m)\u001b[0m\u001b[0;34m\u001b[0m\u001b[0;34m\u001b[0m\u001b[0m\n\u001b[0;32m---> 19\u001b[0;31m     \u001b[0mkeys\u001b[0m\u001b[0;34m=\u001b[0m\u001b[0mr\u001b[0m\u001b[0;34m.\u001b[0m\u001b[0mjson\u001b[0m\u001b[0;34m(\u001b[0m\u001b[0;34m)\u001b[0m\u001b[0;34m[\u001b[0m\u001b[0;34m'response'\u001b[0m\u001b[0;34m]\u001b[0m\u001b[0;34m[\u001b[0m\u001b[0;34m'docs'\u001b[0m\u001b[0;34m]\u001b[0m\u001b[0;34m[\u001b[0m\u001b[0;36m0\u001b[0m\u001b[0;34m]\u001b[0m\u001b[0;34m.\u001b[0m\u001b[0mkeys\u001b[0m\u001b[0;34m(\u001b[0m\u001b[0;34m)\u001b[0m\u001b[0;34m\u001b[0m\u001b[0;34m\u001b[0m\u001b[0m\n\u001b[0m\u001b[1;32m     20\u001b[0m     \u001b[0mfile\u001b[0m \u001b[0;34m=\u001b[0m \u001b[0mr\u001b[0m\u001b[0;34m.\u001b[0m\u001b[0mjson\u001b[0m\u001b[0;34m(\u001b[0m\u001b[0;34m)\u001b[0m\u001b[0;34m[\u001b[0m\u001b[0;34m'response'\u001b[0m\u001b[0;34m]\u001b[0m\u001b[0;34m[\u001b[0m\u001b[0;34m'docs'\u001b[0m\u001b[0;34m]\u001b[0m\u001b[0;34m\u001b[0m\u001b[0;34m\u001b[0m\u001b[0m\n\u001b[1;32m     21\u001b[0m \u001b[0;34m\u001b[0m\u001b[0m\n",
      "\u001b[0;31mIndexError\u001b[0m: list index out of range"
     ]
    }
   ],
   "source": [
    "#2000-2004 yearly \n",
    "for i in range(0,91):\n",
    "    query = \"Clinton, Hillary Rodham\"\n",
    "    begin_date = \"20030102\"  # YYYYMMDD\n",
    "    end_date='20031231'\n",
    "    filter_query = \"\\\"body:(\\\"Hillary Clinton\\\") AND type_of_material:(\\\"Article\\\")\\\"\"  \n",
    "                                            # http://www.lucenetutorial.com/lucene-query-syntax.html\n",
    "    page = i  # <0-100>\n",
    "    sort = \"relevance\"  # newest, oldest\n",
    "    query_url = f\"https://api.nytimes.com/svc/search/v2/articlesearch.json?\" \\\n",
    "                f\"q={query}\" \\\n",
    "                f\"&api-key={apikey}\" \\\n",
    "                f\"&begin_date={begin_date}\" \\\n",
    "                f\"&end_date={end_date}\" \\\n",
    "                f\"&fq={filter_query}\" \\\n",
    "                f\"&page={page}\" \\\n",
    "                f\"&sort={sort}\"\n",
    "    r = requests.get(query_url)\n",
    "    keys=r.json()['response']['docs'][0].keys()\n",
    "    file = r.json()['response']['docs']\n",
    "        \n",
    "    name_file=\"clinton19_{num}.json\".format(num=i) \n",
    "    with open(name_file, 'w') as output_file:\n",
    "        json.dump(file, output_file)\n",
    "    time.sleep(6)"
   ]
  },
  {
   "cell_type": "code",
   "execution_count": null,
   "metadata": {},
   "outputs": [],
   "source": []
  }
 ],
 "metadata": {
  "kernelspec": {
   "display_name": "Python 3",
   "language": "python",
   "name": "python3"
  },
  "language_info": {
   "codemirror_mode": {
    "name": "ipython",
    "version": 3
   },
   "file_extension": ".py",
   "mimetype": "text/x-python",
   "name": "python",
   "nbconvert_exporter": "python",
   "pygments_lexer": "ipython3",
   "version": "3.8.5"
  }
 },
 "nbformat": 4,
 "nbformat_minor": 4
}

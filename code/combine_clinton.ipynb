{
 "cells": [
  {
   "cell_type": "code",
   "execution_count": 1,
   "metadata": {},
   "outputs": [],
   "source": [
    "import requests\n",
    "import os\n",
    "from pprint import pprint\n",
    "import csv\n",
    "import json\n",
    "import time\n",
    "import pandas as pd"
   ]
  },
  {
   "cell_type": "code",
   "execution_count": null,
   "metadata": {},
   "outputs": [],
   "source": [
    "### combining all the json files (a list of dictionaries) combine into a main dictionary with just abstracts and "
   ]
  },
  {
   "cell_type": "code",
   "execution_count": 2,
   "metadata": {},
   "outputs": [],
   "source": [
    "abstract_date_df={'abstract':[],'date':[]}"
   ]
  },
  {
   "cell_type": "code",
   "execution_count": 3,
   "metadata": {},
   "outputs": [],
   "source": [
    "for i in range(0,91):\n",
    "    file_name=\"clinton_{num}.json\".format(num=i)\n",
    "    with open(file_name, 'r') as output_file:\n",
    "        list=json.load(output_file)\n",
    "    for i in range(len(list)):\n",
    "        abstract_date_df['abstract'].append(list[i]['abstract'])\n",
    "        abstract_date_df['date'].append(list[i]['pub_date'])"
   ]
  },
  {
   "cell_type": "code",
   "execution_count": 4,
   "metadata": {},
   "outputs": [],
   "source": [
    "for i in range(0,91):\n",
    "    file_name=\"clinton1_{num}.json\".format(num=i)\n",
    "    with open(file_name, 'r') as output_file:\n",
    "        list=json.load(output_file)\n",
    "    for i in range(len(list)):\n",
    "        abstract_date_df['abstract'].append(list[i]['abstract'])\n",
    "        abstract_date_df['date'].append(list[i]['pub_date'])"
   ]
  },
  {
   "cell_type": "code",
   "execution_count": 5,
   "metadata": {},
   "outputs": [],
   "source": [
    "for i in range(0,91):\n",
    "    file_name=\"clinton2_{num}.json\".format(num=i)\n",
    "    with open(file_name, 'r') as output_file:\n",
    "        list=json.load(output_file)\n",
    "    for i in range(len(list)):\n",
    "        abstract_date_df['abstract'].append(list[i]['abstract'])\n",
    "        abstract_date_df['date'].append(list[i]['pub_date'])"
   ]
  },
  {
   "cell_type": "code",
   "execution_count": 6,
   "metadata": {},
   "outputs": [],
   "source": [
    "for i in range(0,91):\n",
    "    file_name=\"clinton3_{num}.json\".format(num=i)\n",
    "    with open(file_name, 'r') as output_file:\n",
    "        list=json.load(output_file)\n",
    "    for i in range(len(list)):\n",
    "        abstract_date_df['abstract'].append(list[i]['abstract'])\n",
    "        abstract_date_df['date'].append(list[i]['pub_date'])"
   ]
  },
  {
   "cell_type": "code",
   "execution_count": 7,
   "metadata": {},
   "outputs": [],
   "source": [
    "for i in range(0,91):\n",
    "    file_name=\"clinton4_{num}.json\".format(num=i)\n",
    "    with open(file_name, 'r') as output_file:\n",
    "        list=json.load(output_file)\n",
    "    for i in range(len(list)):\n",
    "        abstract_date_df['abstract'].append(list[i]['abstract'])\n",
    "        abstract_date_df['date'].append(list[i]['pub_date'])"
   ]
  },
  {
   "cell_type": "code",
   "execution_count": 8,
   "metadata": {},
   "outputs": [],
   "source": [
    "for i in range(0,91):\n",
    "    file_name=\"clinton5_{num}.json\".format(num=i)\n",
    "    with open(file_name, 'r') as output_file:\n",
    "        list=json.load(output_file)\n",
    "    for i in range(len(list)):\n",
    "        abstract_date_df['abstract'].append(list[i]['abstract'])\n",
    "        abstract_date_df['date'].append(list[i]['pub_date'])"
   ]
  },
  {
   "cell_type": "code",
   "execution_count": 9,
   "metadata": {},
   "outputs": [],
   "source": [
    "for i in range(0,91):\n",
    "    file_name=\"clinton6_{num}.json\".format(num=i)\n",
    "    with open(file_name, 'r') as output_file:\n",
    "        list=json.load(output_file)\n",
    "    for i in range(len(list)):\n",
    "        abstract_date_df['abstract'].append(list[i]['abstract'])\n",
    "        abstract_date_df['date'].append(list[i]['pub_date'])"
   ]
  },
  {
   "cell_type": "code",
   "execution_count": 10,
   "metadata": {},
   "outputs": [],
   "source": [
    "for i in range(0,91):\n",
    "    file_name=\"clinton7_{num}.json\".format(num=i)\n",
    "    with open(file_name, 'r') as output_file:\n",
    "        list=json.load(output_file)\n",
    "    for i in range(len(list)):\n",
    "        abstract_date_df['abstract'].append(list[i]['abstract'])\n",
    "        abstract_date_df['date'].append(list[i]['pub_date'])"
   ]
  },
  {
   "cell_type": "code",
   "execution_count": 11,
   "metadata": {},
   "outputs": [],
   "source": [
    "for i in range(0,83):\n",
    "    file_name=\"clinton8_{num}.json\".format(num=i)\n",
    "    with open(file_name, 'r') as output_file:\n",
    "        list=json.load(output_file)\n",
    "    for i in range(len(list)):\n",
    "        abstract_date_df['abstract'].append(list[i]['abstract'])\n",
    "        abstract_date_df['date'].append(list[i]['pub_date'])"
   ]
  },
  {
   "cell_type": "code",
   "execution_count": 12,
   "metadata": {},
   "outputs": [],
   "source": [
    "for i in range(0,91):\n",
    "    file_name=\"clinton9_{num}.json\".format(num=i)\n",
    "    with open(file_name, 'r') as output_file:\n",
    "        list=json.load(output_file)\n",
    "    for i in range(len(list)):\n",
    "        abstract_date_df['abstract'].append(list[i]['abstract'])\n",
    "        abstract_date_df['date'].append(list[i]['pub_date'])"
   ]
  },
  {
   "cell_type": "code",
   "execution_count": 13,
   "metadata": {},
   "outputs": [],
   "source": [
    "for i in range(0,91):\n",
    "    file_name=\"clinton10_{num}.json\".format(num=i)\n",
    "    with open(file_name, 'r') as output_file:\n",
    "        list=json.load(output_file)\n",
    "    for i in range(len(list)):\n",
    "        abstract_date_df['abstract'].append(list[i]['abstract'])\n",
    "        abstract_date_df['date'].append(list[i]['pub_date'])"
   ]
  },
  {
   "cell_type": "code",
   "execution_count": 14,
   "metadata": {},
   "outputs": [],
   "source": [
    "for i in range(0,84):\n",
    "    file_name=\"clinton11_{num}.json\".format(num=i)\n",
    "    with open(file_name, 'r') as output_file:\n",
    "        list=json.load(output_file)\n",
    "    for i in range(len(list)):\n",
    "        abstract_date_df['abstract'].append(list[i]['abstract'])\n",
    "        abstract_date_df['date'].append(list[i]['pub_date'])"
   ]
  },
  {
   "cell_type": "code",
   "execution_count": 15,
   "metadata": {},
   "outputs": [],
   "source": [
    "for i in range(0,91):\n",
    "    file_name=\"clinton12_{num}.json\".format(num=i)\n",
    "    with open(file_name, 'r') as output_file:\n",
    "        list=json.load(output_file)\n",
    "    for i in range(len(list)):\n",
    "        abstract_date_df['abstract'].append(list[i]['abstract'])\n",
    "        abstract_date_df['date'].append(list[i]['pub_date'])"
   ]
  },
  {
   "cell_type": "code",
   "execution_count": 16,
   "metadata": {},
   "outputs": [],
   "source": [
    "for i in range(0,91):\n",
    "    file_name=\"clinton13_{num}.json\".format(num=i)\n",
    "    with open(file_name, 'r') as output_file:\n",
    "        list=json.load(output_file)\n",
    "    for i in range(len(list)):\n",
    "        abstract_date_df['abstract'].append(list[i]['abstract'])\n",
    "        abstract_date_df['date'].append(list[i]['pub_date'])"
   ]
  },
  {
   "cell_type": "code",
   "execution_count": 17,
   "metadata": {},
   "outputs": [],
   "source": [
    "for i in range(0,91):\n",
    "    file_name=\"clinton14_{num}.json\".format(num=i)\n",
    "    with open(file_name, 'r') as output_file:\n",
    "        list=json.load(output_file)\n",
    "    for i in range(len(list)):\n",
    "        abstract_date_df['abstract'].append(list[i]['abstract'])\n",
    "        abstract_date_df['date'].append(list[i]['pub_date'])"
   ]
  },
  {
   "cell_type": "code",
   "execution_count": 18,
   "metadata": {},
   "outputs": [],
   "source": [
    "for i in range(0,64):\n",
    "    file_name=\"clinton15_{num}.json\".format(num=i)\n",
    "    with open(file_name, 'r') as output_file:\n",
    "        list=json.load(output_file)\n",
    "    for i in range(len(list)):\n",
    "        abstract_date_df['abstract'].append(list[i]['abstract'])\n",
    "        abstract_date_df['date'].append(list[i]['pub_date'])"
   ]
  },
  {
   "cell_type": "code",
   "execution_count": null,
   "metadata": {},
   "outputs": [],
   "source": []
  },
  {
   "cell_type": "code",
   "execution_count": 19,
   "metadata": {},
   "outputs": [],
   "source": [
    "for i in range(0,91):\n",
    "    file_name=\"clinton16_{num}.json\".format(num=i)\n",
    "    with open(file_name, 'r') as output_file:\n",
    "        list=json.load(output_file)\n",
    "    for i in range(len(list)):\n",
    "        abstract_date_df['abstract'].append(list[i]['abstract'])\n",
    "        abstract_date_df['date'].append(list[i]['pub_date'])"
   ]
  },
  {
   "cell_type": "code",
   "execution_count": 20,
   "metadata": {},
   "outputs": [],
   "source": [
    "for i in range(0,65):\n",
    "    file_name=\"clinton17_{num}.json\".format(num=i)\n",
    "    with open(file_name, 'r') as output_file:\n",
    "        list=json.load(output_file)\n",
    "    for i in range(len(list)):\n",
    "        abstract_date_df['abstract'].append(list[i]['abstract'])\n",
    "        abstract_date_df['date'].append(list[i]['pub_date'])"
   ]
  },
  {
   "cell_type": "code",
   "execution_count": 21,
   "metadata": {},
   "outputs": [],
   "source": [
    "for i in range(0,38):\n",
    "    file_name=\"clinton18_{num}.json\".format(num=i)\n",
    "    with open(file_name, 'r') as output_file:\n",
    "        list=json.load(output_file)\n",
    "    for i in range(len(list)):\n",
    "        abstract_date_df['abstract'].append(list[i]['abstract'])\n",
    "        abstract_date_df['date'].append(list[i]['pub_date'])"
   ]
  },
  {
   "cell_type": "code",
   "execution_count": 22,
   "metadata": {},
   "outputs": [],
   "source": [
    "for i in range(0,40):\n",
    "    file_name=\"clinton19_{num}.json\".format(num=i)\n",
    "    with open(file_name, 'r') as output_file:\n",
    "        list=json.load(output_file)\n",
    "    for i in range(len(list)):\n",
    "        abstract_date_df['abstract'].append(list[i]['abstract'])\n",
    "        abstract_date_df['date'].append(list[i]['pub_date'])"
   ]
  },
  {
   "cell_type": "code",
   "execution_count": 23,
   "metadata": {},
   "outputs": [],
   "source": [
    "df_clinton=pd.DataFrame.from_dict(abstract_date_df)"
   ]
  },
  {
   "cell_type": "code",
   "execution_count": 24,
   "metadata": {},
   "outputs": [],
   "source": [
    "df_clinton.to_csv(\"clinton_csv\", index=False, header=True)"
   ]
  },
  {
   "cell_type": "code",
   "execution_count": 25,
   "metadata": {},
   "outputs": [
    {
     "data": {
      "text/html": [
       "<div>\n",
       "<style scoped>\n",
       "    .dataframe tbody tr th:only-of-type {\n",
       "        vertical-align: middle;\n",
       "    }\n",
       "\n",
       "    .dataframe tbody tr th {\n",
       "        vertical-align: top;\n",
       "    }\n",
       "\n",
       "    .dataframe thead th {\n",
       "        text-align: right;\n",
       "    }\n",
       "</style>\n",
       "<table border=\"1\" class=\"dataframe\">\n",
       "  <thead>\n",
       "    <tr style=\"text-align: right;\">\n",
       "      <th></th>\n",
       "      <th>abstract</th>\n",
       "      <th>date</th>\n",
       "    </tr>\n",
       "  </thead>\n",
       "  <tbody>\n",
       "    <tr>\n",
       "      <th>0</th>\n",
       "      <td>Jeanine F. Pirro's bid to unseat Senator Hilla...</td>\n",
       "      <td>2005-11-30T05:00:00+0000</td>\n",
       "    </tr>\n",
       "    <tr>\n",
       "      <th>1</th>\n",
       "      <td>Senator Hillary Rodham Clinton, in her stronge...</td>\n",
       "      <td>2005-11-30T05:00:00+0000</td>\n",
       "    </tr>\n",
       "    <tr>\n",
       "      <th>2</th>\n",
       "      <td>As her race for re-election begins in earnest,...</td>\n",
       "      <td>2005-11-13T05:00:00+0000</td>\n",
       "    </tr>\n",
       "    <tr>\n",
       "      <th>3</th>\n",
       "      <td>Hillary Rodham Clinton may be running for re-e...</td>\n",
       "      <td>2005-11-15T05:00:00+0000</td>\n",
       "    </tr>\n",
       "    <tr>\n",
       "      <th>4</th>\n",
       "      <td>As former President Bill Clinton and his wife,...</td>\n",
       "      <td>2005-11-14T05:00:00+0000</td>\n",
       "    </tr>\n",
       "    <tr>\n",
       "      <th>...</th>\n",
       "      <td>...</td>\n",
       "      <td>...</td>\n",
       "    </tr>\n",
       "    <tr>\n",
       "      <th>16436</th>\n",
       "      <td>David Langton letter questions FEMA's casual d...</td>\n",
       "      <td>2003-08-01T05:00:00+0000</td>\n",
       "    </tr>\n",
       "    <tr>\n",
       "      <th>16437</th>\n",
       "      <td>An article on Feb. 26 about Senator John Kerry...</td>\n",
       "      <td>2003-03-11T05:00:00+0000</td>\n",
       "    </tr>\n",
       "    <tr>\n",
       "      <th>16438</th>\n",
       "      <td>Today's corrections from The Times.</td>\n",
       "      <td>2003-03-12T05:00:00+0000</td>\n",
       "    </tr>\n",
       "    <tr>\n",
       "      <th>16439</th>\n",
       "      <td>Corrections</td>\n",
       "      <td>2003-06-26T05:00:00+0000</td>\n",
       "    </tr>\n",
       "    <tr>\n",
       "      <th>16440</th>\n",
       "      <td>Corrections</td>\n",
       "      <td>2003-12-24T05:00:00+0000</td>\n",
       "    </tr>\n",
       "  </tbody>\n",
       "</table>\n",
       "<p>16441 rows × 2 columns</p>\n",
       "</div>"
      ],
      "text/plain": [
       "                                                abstract  \\\n",
       "0      Jeanine F. Pirro's bid to unseat Senator Hilla...   \n",
       "1      Senator Hillary Rodham Clinton, in her stronge...   \n",
       "2      As her race for re-election begins in earnest,...   \n",
       "3      Hillary Rodham Clinton may be running for re-e...   \n",
       "4      As former President Bill Clinton and his wife,...   \n",
       "...                                                  ...   \n",
       "16436  David Langton letter questions FEMA's casual d...   \n",
       "16437  An article on Feb. 26 about Senator John Kerry...   \n",
       "16438                Today's corrections from The Times.   \n",
       "16439                                        Corrections   \n",
       "16440                                        Corrections   \n",
       "\n",
       "                           date  \n",
       "0      2005-11-30T05:00:00+0000  \n",
       "1      2005-11-30T05:00:00+0000  \n",
       "2      2005-11-13T05:00:00+0000  \n",
       "3      2005-11-15T05:00:00+0000  \n",
       "4      2005-11-14T05:00:00+0000  \n",
       "...                         ...  \n",
       "16436  2003-08-01T05:00:00+0000  \n",
       "16437  2003-03-11T05:00:00+0000  \n",
       "16438  2003-03-12T05:00:00+0000  \n",
       "16439  2003-06-26T05:00:00+0000  \n",
       "16440  2003-12-24T05:00:00+0000  \n",
       "\n",
       "[16441 rows x 2 columns]"
      ]
     },
     "execution_count": 25,
     "metadata": {},
     "output_type": "execute_result"
    }
   ],
   "source": [
    "df_clinton"
   ]
  },
  {
   "cell_type": "code",
   "execution_count": null,
   "metadata": {},
   "outputs": [],
   "source": []
  }
 ],
 "metadata": {
  "kernelspec": {
   "display_name": "Python 3",
   "language": "python",
   "name": "python3"
  },
  "language_info": {
   "codemirror_mode": {
    "name": "ipython",
    "version": 3
   },
   "file_extension": ".py",
   "mimetype": "text/x-python",
   "name": "python",
   "nbconvert_exporter": "python",
   "pygments_lexer": "ipython3",
   "version": "3.8.5"
  }
 },
 "nbformat": 4,
 "nbformat_minor": 4
}

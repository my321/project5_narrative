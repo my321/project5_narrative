{
 "cells": [
  {
   "cell_type": "code",
   "execution_count": 1,
   "metadata": {},
   "outputs": [],
   "source": [
    "import requests\n",
    "import os\n",
    "from pprint import pprint\n",
    "import csv\n",
    "import json\n",
    "import time\n",
    "import pandas as pd"
   ]
  },
  {
   "cell_type": "code",
   "execution_count": 2,
   "metadata": {},
   "outputs": [],
   "source": [
    "abstract_date_df={'abstract':[],'date':[]}"
   ]
  },
  {
   "cell_type": "code",
   "execution_count": 3,
   "metadata": {},
   "outputs": [],
   "source": [
    "for i in range(0,101):\n",
    "    file_name=\"bush_{num}.json\".format(num=i)\n",
    "    with open(file_name, 'r') as output_file:\n",
    "        list=json.load(output_file)\n",
    "    for i in range(len(list)):\n",
    "        abstract_date_df['abstract'].append(list[i]['abstract'])\n",
    "        abstract_date_df['date'].append(list[i]['pub_date'])"
   ]
  },
  {
   "cell_type": "code",
   "execution_count": 4,
   "metadata": {},
   "outputs": [],
   "source": [
    "for i in range(0,101):\n",
    "    file_name=\"bush1_{num}.json\".format(num=i)\n",
    "    with open(file_name, 'r') as output_file:\n",
    "        list=json.load(output_file)\n",
    "    for i in range(len(list)):\n",
    "        abstract_date_df['abstract'].append(list[i]['abstract'])\n",
    "        abstract_date_df['date'].append(list[i]['pub_date'])"
   ]
  },
  {
   "cell_type": "code",
   "execution_count": 5,
   "metadata": {},
   "outputs": [],
   "source": [
    "for i in range(0,101):\n",
    "    file_name=\"bush2_{num}.json\".format(num=i)\n",
    "    with open(file_name, 'r') as output_file:\n",
    "        list=json.load(output_file)\n",
    "    for i in range(len(list)):\n",
    "        abstract_date_df['abstract'].append(list[i]['abstract'])\n",
    "        abstract_date_df['date'].append(list[i]['pub_date'])"
   ]
  },
  {
   "cell_type": "code",
   "execution_count": 6,
   "metadata": {},
   "outputs": [],
   "source": [
    "for i in range(0,101):\n",
    "    file_name=\"bush3_{num}.json\".format(num=i)\n",
    "    with open(file_name, 'r') as output_file:\n",
    "        list=json.load(output_file)\n",
    "    for i in range(len(list)):\n",
    "        abstract_date_df['abstract'].append(list[i]['abstract'])\n",
    "        abstract_date_df['date'].append(list[i]['pub_date'])"
   ]
  },
  {
   "cell_type": "code",
   "execution_count": 7,
   "metadata": {},
   "outputs": [],
   "source": [
    "for i in range(0,101):\n",
    "    file_name=\"bush4_{num}.json\".format(num=i)\n",
    "    with open(file_name, 'r') as output_file:\n",
    "        list=json.load(output_file)\n",
    "    for i in range(len(list)):\n",
    "        abstract_date_df['abstract'].append(list[i]['abstract'])\n",
    "        abstract_date_df['date'].append(list[i]['pub_date'])"
   ]
  },
  {
   "cell_type": "code",
   "execution_count": 8,
   "metadata": {},
   "outputs": [],
   "source": [
    "for i in range(0,101):\n",
    "    file_name=\"bush5_{num}.json\".format(num=i)\n",
    "    with open(file_name, 'r') as output_file:\n",
    "        list=json.load(output_file)\n",
    "    for i in range(len(list)):\n",
    "        abstract_date_df['abstract'].append(list[i]['abstract'])\n",
    "        abstract_date_df['date'].append(list[i]['pub_date'])"
   ]
  },
  {
   "cell_type": "code",
   "execution_count": 9,
   "metadata": {},
   "outputs": [],
   "source": [
    "for i in range(0,101):\n",
    "    file_name=\"bush6_{num}.json\".format(num=i)\n",
    "    with open(file_name, 'r') as output_file:\n",
    "        list=json.load(output_file)\n",
    "    for i in range(len(list)):\n",
    "        abstract_date_df['abstract'].append(list[i]['abstract'])\n",
    "        abstract_date_df['date'].append(list[i]['pub_date'])"
   ]
  },
  {
   "cell_type": "code",
   "execution_count": 10,
   "metadata": {},
   "outputs": [],
   "source": [
    "for i in range(0,101):\n",
    "    file_name=\"bush7_{num}.json\".format(num=i)\n",
    "    with open(file_name, 'r') as output_file:\n",
    "        list=json.load(output_file)\n",
    "    for i in range(len(list)):\n",
    "        abstract_date_df['abstract'].append(list[i]['abstract'])\n",
    "        abstract_date_df['date'].append(list[i]['pub_date'])"
   ]
  },
  {
   "cell_type": "code",
   "execution_count": 11,
   "metadata": {},
   "outputs": [],
   "source": [
    "for i in range(0,101):\n",
    "    file_name=\"bush8_{num}.json\".format(num=i)\n",
    "    with open(file_name, 'r') as output_file:\n",
    "        list=json.load(output_file)\n",
    "    for i in range(len(list)):\n",
    "        abstract_date_df['abstract'].append(list[i]['abstract'])\n",
    "        abstract_date_df['date'].append(list[i]['pub_date'])"
   ]
  },
  {
   "cell_type": "code",
   "execution_count": 12,
   "metadata": {},
   "outputs": [],
   "source": [
    "for i in range(0,101):\n",
    "    file_name=\"bush9_{num}.json\".format(num=i)\n",
    "    with open(file_name, 'r') as output_file:\n",
    "        list=json.load(output_file)\n",
    "    for i in range(len(list)):\n",
    "        abstract_date_df['abstract'].append(list[i]['abstract'])\n",
    "        abstract_date_df['date'].append(list[i]['pub_date'])"
   ]
  },
  {
   "cell_type": "code",
   "execution_count": 13,
   "metadata": {},
   "outputs": [],
   "source": [
    "for i in range(0,101):\n",
    "    file_name=\"bush10_{num}.json\".format(num=i)\n",
    "    with open(file_name, 'r') as output_file:\n",
    "        list=json.load(output_file)\n",
    "    for i in range(len(list)):\n",
    "        abstract_date_df['abstract'].append(list[i]['abstract'])\n",
    "        abstract_date_df['date'].append(list[i]['pub_date'])"
   ]
  },
  {
   "cell_type": "code",
   "execution_count": 14,
   "metadata": {},
   "outputs": [],
   "source": [
    "for i in range(0,101):\n",
    "    file_name=\"bush11_{num}.json\".format(num=i)\n",
    "    with open(file_name, 'r') as output_file:\n",
    "        list=json.load(output_file)\n",
    "    for i in range(len(list)):\n",
    "        abstract_date_df['abstract'].append(list[i]['abstract'])\n",
    "        abstract_date_df['date'].append(list[i]['pub_date'])"
   ]
  },
  {
   "cell_type": "code",
   "execution_count": 15,
   "metadata": {},
   "outputs": [],
   "source": [
    "for i in range(0,101):\n",
    "    file_name=\"bush12_{num}.json\".format(num=i)\n",
    "    with open(file_name, 'r') as output_file:\n",
    "        list=json.load(output_file)\n",
    "    for i in range(len(list)):\n",
    "        abstract_date_df['abstract'].append(list[i]['abstract'])\n",
    "        abstract_date_df['date'].append(list[i]['pub_date'])"
   ]
  },
  {
   "cell_type": "code",
   "execution_count": 16,
   "metadata": {},
   "outputs": [],
   "source": [
    "for i in range(0,101):\n",
    "    file_name=\"bush13_{num}.json\".format(num=i)\n",
    "    with open(file_name, 'r') as output_file:\n",
    "        list=json.load(output_file)\n",
    "    for i in range(len(list)):\n",
    "        abstract_date_df['abstract'].append(list[i]['abstract'])\n",
    "        abstract_date_df['date'].append(list[i]['pub_date'])"
   ]
  },
  {
   "cell_type": "code",
   "execution_count": 17,
   "metadata": {},
   "outputs": [],
   "source": [
    "for i in range(0,101):\n",
    "    file_name=\"bush14_{num}.json\".format(num=i)\n",
    "    with open(file_name, 'r') as output_file:\n",
    "        list=json.load(output_file)\n",
    "    for i in range(len(list)):\n",
    "        abstract_date_df['abstract'].append(list[i]['abstract'])\n",
    "        abstract_date_df['date'].append(list[i]['pub_date'])"
   ]
  },
  {
   "cell_type": "code",
   "execution_count": 18,
   "metadata": {},
   "outputs": [],
   "source": [
    "for i in range(0,101):\n",
    "    file_name=\"bush15_{num}.json\".format(num=i)\n",
    "    with open(file_name, 'r') as output_file:\n",
    "        list=json.load(output_file)\n",
    "    for i in range(len(list)):\n",
    "        abstract_date_df['abstract'].append(list[i]['abstract'])\n",
    "        abstract_date_df['date'].append(list[i]['pub_date'])"
   ]
  },
  {
   "cell_type": "code",
   "execution_count": 19,
   "metadata": {},
   "outputs": [],
   "source": [
    "for i in range(0,97):\n",
    "    file_name=\"bush16_{num}.json\".format(num=i)\n",
    "    with open(file_name, 'r') as output_file:\n",
    "        list=json.load(output_file)\n",
    "    for i in range(len(list)):\n",
    "        abstract_date_df['abstract'].append(list[i]['abstract'])\n",
    "        abstract_date_df['date'].append(list[i]['pub_date'])"
   ]
  },
  {
   "cell_type": "code",
   "execution_count": 20,
   "metadata": {},
   "outputs": [],
   "source": [
    "for i in range(0,101):\n",
    "    file_name=\"bush17_{num}.json\".format(num=i)\n",
    "    with open(file_name, 'r') as output_file:\n",
    "        list=json.load(output_file)\n",
    "    for i in range(len(list)):\n",
    "        abstract_date_df['abstract'].append(list[i]['abstract'])\n",
    "        abstract_date_df['date'].append(list[i]['pub_date'])"
   ]
  },
  {
   "cell_type": "code",
   "execution_count": 21,
   "metadata": {},
   "outputs": [],
   "source": [
    "for i in range(0,101):\n",
    "    file_name=\"bush18_{num}.json\".format(num=i)\n",
    "    with open(file_name, 'r') as output_file:\n",
    "        list=json.load(output_file)\n",
    "    for i in range(len(list)):\n",
    "        abstract_date_df['abstract'].append(list[i]['abstract'])\n",
    "        abstract_date_df['date'].append(list[i]['pub_date'])"
   ]
  },
  {
   "cell_type": "code",
   "execution_count": 22,
   "metadata": {},
   "outputs": [],
   "source": [
    "for i in range(0,101):\n",
    "    file_name=\"bush19_{num}.json\".format(num=i)\n",
    "    with open(file_name, 'r') as output_file:\n",
    "        list=json.load(output_file)\n",
    "    for i in range(len(list)):\n",
    "        abstract_date_df['abstract'].append(list[i]['abstract'])\n",
    "        abstract_date_df['date'].append(list[i]['pub_date'])"
   ]
  },
  {
   "cell_type": "code",
   "execution_count": 23,
   "metadata": {},
   "outputs": [],
   "source": [
    "for i in range(0,101):\n",
    "    file_name=\"bush20_{num}.json\".format(num=i)\n",
    "    with open(file_name, 'r') as output_file:\n",
    "        list=json.load(output_file)\n",
    "    for i in range(len(list)):\n",
    "        abstract_date_df['abstract'].append(list[i]['abstract'])\n",
    "        abstract_date_df['date'].append(list[i]['pub_date'])"
   ]
  },
  {
   "cell_type": "code",
   "execution_count": 24,
   "metadata": {},
   "outputs": [],
   "source": [
    "for i in range(0,101):\n",
    "    file_name=\"bush21_{num}.json\".format(num=i)\n",
    "    with open(file_name, 'r') as output_file:\n",
    "        list=json.load(output_file)\n",
    "    for i in range(len(list)):\n",
    "        abstract_date_df['abstract'].append(list[i]['abstract'])\n",
    "        abstract_date_df['date'].append(list[i]['pub_date'])"
   ]
  },
  {
   "cell_type": "code",
   "execution_count": 25,
   "metadata": {},
   "outputs": [],
   "source": [
    "for i in range(0,101):\n",
    "    file_name=\"bush22_{num}.json\".format(num=i)\n",
    "    with open(file_name, 'r') as output_file:\n",
    "        list=json.load(output_file)\n",
    "    for i in range(len(list)):\n",
    "        abstract_date_df['abstract'].append(list[i]['abstract'])\n",
    "        abstract_date_df['date'].append(list[i]['pub_date'])"
   ]
  },
  {
   "cell_type": "code",
   "execution_count": 26,
   "metadata": {},
   "outputs": [],
   "source": [
    "for i in range(0,97):\n",
    "    file_name=\"bush23_{num}.json\".format(num=i)\n",
    "    with open(file_name, 'r') as output_file:\n",
    "        list=json.load(output_file)\n",
    "    for i in range(len(list)):\n",
    "        abstract_date_df['abstract'].append(list[i]['abstract'])\n",
    "        abstract_date_df['date'].append(list[i]['pub_date'])"
   ]
  },
  {
   "cell_type": "code",
   "execution_count": 27,
   "metadata": {},
   "outputs": [],
   "source": [
    "for i in range(0,91):\n",
    "    file_name=\"bush24_{num}.json\".format(num=i)\n",
    "    with open(file_name, 'r') as output_file:\n",
    "        list=json.load(output_file)\n",
    "    for i in range(len(list)):\n",
    "        abstract_date_df['abstract'].append(list[i]['abstract'])\n",
    "        abstract_date_df['date'].append(list[i]['pub_date'])"
   ]
  },
  {
   "cell_type": "code",
   "execution_count": 28,
   "metadata": {},
   "outputs": [],
   "source": [
    "for i in range(0,91):\n",
    "    file_name=\"bush25_{num}.json\".format(num=i)\n",
    "    with open(file_name, 'r') as output_file:\n",
    "        list=json.load(output_file)\n",
    "    for i in range(len(list)):\n",
    "        abstract_date_df['abstract'].append(list[i]['abstract'])\n",
    "        abstract_date_df['date'].append(list[i]['pub_date'])"
   ]
  },
  {
   "cell_type": "code",
   "execution_count": 29,
   "metadata": {},
   "outputs": [],
   "source": [
    "for i in range(0,91):\n",
    "    file_name=\"bush26_{num}.json\".format(num=i)\n",
    "    with open(file_name, 'r') as output_file:\n",
    "        list=json.load(output_file)\n",
    "    for i in range(len(list)):\n",
    "        abstract_date_df['abstract'].append(list[i]['abstract'])\n",
    "        abstract_date_df['date'].append(list[i]['pub_date'])"
   ]
  },
  {
   "cell_type": "code",
   "execution_count": 30,
   "metadata": {},
   "outputs": [],
   "source": [
    "for i in range(0,91):\n",
    "    file_name=\"bush27_{num}.json\".format(num=i)\n",
    "    with open(file_name, 'r') as output_file:\n",
    "        list=json.load(output_file)\n",
    "    for i in range(len(list)):\n",
    "        abstract_date_df['abstract'].append(list[i]['abstract'])\n",
    "        abstract_date_df['date'].append(list[i]['pub_date'])"
   ]
  },
  {
   "cell_type": "code",
   "execution_count": 31,
   "metadata": {},
   "outputs": [],
   "source": [
    "for i in range(0,91):\n",
    "    file_name=\"bush28_{num}.json\".format(num=i)\n",
    "    with open(file_name, 'r') as output_file:\n",
    "        list=json.load(output_file)\n",
    "    for i in range(len(list)):\n",
    "        abstract_date_df['abstract'].append(list[i]['abstract'])\n",
    "        abstract_date_df['date'].append(list[i]['pub_date'])"
   ]
  },
  {
   "cell_type": "code",
   "execution_count": null,
   "metadata": {},
   "outputs": [],
   "source": []
  },
  {
   "cell_type": "code",
   "execution_count": 32,
   "metadata": {},
   "outputs": [],
   "source": [
    "for i in range(0,101):\n",
    "    file_name=\"bush29_{num}.json\".format(num=i)\n",
    "    with open(file_name, 'r') as output_file:\n",
    "        list=json.load(output_file)\n",
    "    for i in range(len(list)):\n",
    "        abstract_date_df['abstract'].append(list[i]['abstract'])\n",
    "        abstract_date_df['date'].append(list[i]['pub_date'])"
   ]
  },
  {
   "cell_type": "code",
   "execution_count": 33,
   "metadata": {},
   "outputs": [],
   "source": [
    "for i in range(0,101):\n",
    "    file_name=\"bush30_{num}.json\".format(num=i)\n",
    "    with open(file_name, 'r') as output_file:\n",
    "        list=json.load(output_file)\n",
    "    for i in range(len(list)):\n",
    "        abstract_date_df['abstract'].append(list[i]['abstract'])\n",
    "        abstract_date_df['date'].append(list[i]['pub_date'])"
   ]
  },
  {
   "cell_type": "code",
   "execution_count": 34,
   "metadata": {},
   "outputs": [],
   "source": [
    "for i in range(0,101):\n",
    "    file_name=\"bush31_{num}.json\".format(num=i)\n",
    "    with open(file_name, 'r') as output_file:\n",
    "        list=json.load(output_file)\n",
    "    for i in range(len(list)):\n",
    "        abstract_date_df['abstract'].append(list[i]['abstract'])\n",
    "        abstract_date_df['date'].append(list[i]['pub_date'])"
   ]
  },
  {
   "cell_type": "code",
   "execution_count": 35,
   "metadata": {},
   "outputs": [],
   "source": [
    "for i in range(0,101):\n",
    "    file_name=\"bush32_{num}.json\".format(num=i)\n",
    "    with open(file_name, 'r') as output_file:\n",
    "        list=json.load(output_file)\n",
    "    for i in range(len(list)):\n",
    "        abstract_date_df['abstract'].append(list[i]['abstract'])\n",
    "        abstract_date_df['date'].append(list[i]['pub_date'])"
   ]
  },
  {
   "cell_type": "code",
   "execution_count": 36,
   "metadata": {},
   "outputs": [],
   "source": [
    "for i in range(0,101):\n",
    "    file_name=\"bush33_{num}.json\".format(num=i)\n",
    "    with open(file_name, 'r') as output_file:\n",
    "        list=json.load(output_file)\n",
    "    for i in range(len(list)):\n",
    "        abstract_date_df['abstract'].append(list[i]['abstract'])\n",
    "        abstract_date_df['date'].append(list[i]['pub_date'])"
   ]
  },
  {
   "cell_type": "code",
   "execution_count": 37,
   "metadata": {},
   "outputs": [],
   "source": [
    "for i in range(0,101):\n",
    "    file_name=\"bush34_{num}.json\".format(num=i)\n",
    "    with open(file_name, 'r') as output_file:\n",
    "        list=json.load(output_file)\n",
    "    for i in range(len(list)):\n",
    "        abstract_date_df['abstract'].append(list[i]['abstract'])\n",
    "        abstract_date_df['date'].append(list[i]['pub_date'])"
   ]
  },
  {
   "cell_type": "code",
   "execution_count": 38,
   "metadata": {},
   "outputs": [],
   "source": [
    "for i in range(0,101):\n",
    "    file_name=\"bush35_{num}.json\".format(num=i)\n",
    "    with open(file_name, 'r') as output_file:\n",
    "        list=json.load(output_file)\n",
    "    for i in range(len(list)):\n",
    "        abstract_date_df['abstract'].append(list[i]['abstract'])\n",
    "        abstract_date_df['date'].append(list[i]['pub_date'])"
   ]
  },
  {
   "cell_type": "code",
   "execution_count": 39,
   "metadata": {},
   "outputs": [],
   "source": [
    "for i in range(0,101):\n",
    "    file_name=\"bush36_{num}.json\".format(num=i)\n",
    "    with open(file_name, 'r') as output_file:\n",
    "        list=json.load(output_file)\n",
    "    for i in range(len(list)):\n",
    "        abstract_date_df['abstract'].append(list[i]['abstract'])\n",
    "        abstract_date_df['date'].append(list[i]['pub_date'])"
   ]
  },
  {
   "cell_type": "code",
   "execution_count": 40,
   "metadata": {},
   "outputs": [],
   "source": [
    "for i in range(0,101):\n",
    "    file_name=\"bush37_{num}.json\".format(num=i)\n",
    "    with open(file_name, 'r') as output_file:\n",
    "        list=json.load(output_file)\n",
    "    for i in range(len(list)):\n",
    "        abstract_date_df['abstract'].append(list[i]['abstract'])\n",
    "        abstract_date_df['date'].append(list[i]['pub_date'])"
   ]
  },
  {
   "cell_type": "code",
   "execution_count": 41,
   "metadata": {},
   "outputs": [],
   "source": [
    "for i in range(0,101):\n",
    "    file_name=\"bush38_{num}.json\".format(num=i)\n",
    "    with open(file_name, 'r') as output_file:\n",
    "        list=json.load(output_file)\n",
    "    for i in range(len(list)):\n",
    "        abstract_date_df['abstract'].append(list[i]['abstract'])\n",
    "        abstract_date_df['date'].append(list[i]['pub_date'])"
   ]
  },
  {
   "cell_type": "code",
   "execution_count": 42,
   "metadata": {},
   "outputs": [],
   "source": [
    "for i in range(0,101):\n",
    "    file_name=\"bush39_{num}.json\".format(num=i)\n",
    "    with open(file_name, 'r') as output_file:\n",
    "        list=json.load(output_file)\n",
    "    for i in range(len(list)):\n",
    "        abstract_date_df['abstract'].append(list[i]['abstract'])\n",
    "        abstract_date_df['date'].append(list[i]['pub_date'])"
   ]
  },
  {
   "cell_type": "code",
   "execution_count": 43,
   "metadata": {},
   "outputs": [],
   "source": [
    "for i in range(0,101):\n",
    "    file_name=\"bush40_{num}.json\".format(num=i)\n",
    "    with open(file_name, 'r') as output_file:\n",
    "        list=json.load(output_file)\n",
    "    for i in range(len(list)):\n",
    "        abstract_date_df['abstract'].append(list[i]['abstract'])\n",
    "        abstract_date_df['date'].append(list[i]['pub_date'])"
   ]
  },
  {
   "cell_type": "code",
   "execution_count": 44,
   "metadata": {},
   "outputs": [],
   "source": [
    "df_bush=pd.DataFrame.from_dict(abstract_date_df)"
   ]
  },
  {
   "cell_type": "code",
   "execution_count": 45,
   "metadata": {},
   "outputs": [],
   "source": [
    "df_bush.to_csv(\"bush_csv\", index=False, header=True)"
   ]
  },
  {
   "cell_type": "code",
   "execution_count": null,
   "metadata": {},
   "outputs": [],
   "source": []
  }
 ],
 "metadata": {
  "kernelspec": {
   "display_name": "Python 3",
   "language": "python",
   "name": "python3"
  },
  "language_info": {
   "codemirror_mode": {
    "name": "ipython",
    "version": 3
   },
   "file_extension": ".py",
   "mimetype": "text/x-python",
   "name": "python",
   "nbconvert_exporter": "python",
   "pygments_lexer": "ipython3",
   "version": "3.8.5"
  }
 },
 "nbformat": 4,
 "nbformat_minor": 4
}
